{
 "cells": [
  {
   "cell_type": "markdown",
   "metadata": {},
   "source": [
    "# Combination of antibodies and their target structures"
   ]
  },
  {
   "cell_type": "markdown",
   "metadata": {},
   "source": [
    "### Scgb1a1, Acta2, Sftpc"
   ]
  },
  {
   "cell_type": "markdown",
   "metadata": {},
   "source": [
    "* [E16.5](http://lungmap.net/breath-image-annotation-page/?experimentTypeId=LMXT0000000003&experimentId=LMEX0000000062&imageId=LMEX0000000062_IMG_1) (bronchioles, blood vessels, acinar tubules)\n",
    "* [E18.5](http://lungmap.net/breath-image-annotation-page/?experimentTypeId=LMXT0000000003&experimentId=LMEX0000000063&imageId=LMEX0000000063_IMG_2) (bronchioles, blood vessels)\n",
    "* [P01\\*](http://lungmap.net/breath-image-annotation-page/?experimentTypeId=LMXT0000000003&experimentId=LMEX0000000589&imageId=LMEX0000000589_IMG_1) (bronchioles, blood vessels)\n",
    "* [P07](http://lungmap.net/breath-image-annotation-page/?experimentTypeId=LMXT0000000003&experimentId=LMEX0000000064&imageId=LMEX0000000064_IMG_10) (bronchioles, blood vessels)\n",
    "* [P14](http://lungmap.net/breath-image-annotation-page/?experimentTypeId=LMXT0000000003&experimentId=LMEX0000000238&imageId=LMEX0000000238_IMG_6) (bronchioles, blood vessels)\n",
    "* [P28](http://lungmap.net/breath-image-annotation-page/?experimentTypeId=LMXT0000000003&experimentId=LMEX0000000065&imageId=LMEX0000000065_IMG_5) (bronchioles, blood vessels)"
   ]
  },
  {
   "cell_type": "markdown",
   "metadata": {},
   "source": [
    "### Nkx2-1, Acta2, Lyve1"
   ]
  },
  {
   "cell_type": "markdown",
   "metadata": {},
   "source": [
    "* [E16.5](http://lungmap.net/breath-image-annotation-page/?experimentTypeId=LMXT0000000003&experimentId=LMEX0000000017&imageId=LMEX0000000017_IMG_1) (bronchioles, blood vessels, acinar tubules)\n",
    "* [E18.5](http://lungmap.net/breath-image-annotation-page/?experimentTypeId=LMXT0000000003&experimentId=LMEX0000000015&imageId=LMEX0000000015_IMG_3) (Lymphatic vessel\\*, blood vessels, bronchioles)\n",
    "* [P01](http://lungmap.net/breath-image-annotation-page/?experimentTypeId=LMXT0000000003&experimentId=LMEX0000000585&imageId=LMEX0000000585_IMG_1) (Lymphatic vessel, blood vessels, bronchioles)\n",
    "* [P07](http://lungmap.net/breath-image-annotation-page/?experimentTypeId=LMXT0000000003&experimentId=LMEX0000000016&imageId=LMEX0000000016_IMG_2) (Lymphatic vessel, blood vessels, bronchioles)\n",
    "* [P14](http://lungmap.net/breath-image-annotation-page/?experimentTypeId=LMXT0000000003&experimentId=LMEX0000000243&imageId=LMEX0000000243_IMG_3) (Lymphatic vessel, blood vessels, bronchioles)\n",
    "* [P28](http://lungmap.net/breath-image-annotation-page/?experimentTypeId=LMXT0000000003&experimentId=LMEX0000000014&imageId=LMEX0000000014_IMG_2) (Lymphatic vessel, blood vessels, bronchioles)"
   ]
  },
  {
   "cell_type": "markdown",
   "metadata": {},
   "source": [
    "### Calca, Tuba1a, Scgb1a1"
   ]
  },
  {
   "cell_type": "markdown",
   "metadata": {},
   "source": [
    "* [P01](http://lungmap.net/breath-image-annotation-page/?experimentTypeId=LMXT0000000003&experimentId=LMEX0000000579&imageId=LMEX0000000579_IMG_1) (bronchioles)"
   ]
  },
  {
   "cell_type": "markdown",
   "metadata": {},
   "source": [
    "### Nkx2-1, Acta2, Cspg4"
   ]
  },
  {
   "cell_type": "markdown",
   "metadata": {},
   "source": [
    "* [E16.5](http://lungmap.net/breath-image-annotation-page/?experimentTypeId=LMXT0000000003&experimentId=LMEX0000000024&imageId=LMEX0000000024_IMG_1) (bronchioles, blood vessels, acinar tubules)\n",
    "* [E18.5](http://lungmap.net/breath-image-annotation-page/?experimentTypeId=LMXT0000000003&experimentId=LMEX0000000025&imageId=LMEX0000000025_IMG_1) (bronchioles, blood vessels)\n",
    "* [P01](http://lungmap.net/breath-image-annotation-page/?experimentTypeId=LMXT0000000003&experimentId=LMEX0000000577&imageId=LMEX0000000577_IMG_4)(bronchioles, blood vessels)\n",
    "* [P07](http://lungmap.net/breath-image-annotation-page/?experimentTypeId=LMXT0000000003&experimentId=LMEX0000000023&imageId=LMEX0000000023_IMG_2)(bronchioles, blood vessels)\n",
    "* [P14](http://lungmap.net/breath-image-annotation-page/?experimentTypeId=LMXT0000000003&experimentId=LMEX0000000239&imageId=LMEX0000000239_IMG_3)(bronchioles, blood vessels)\n",
    "* [P28](http://lungmap.net/breath-image-annotation-page/?experimentTypeId=LMXT0000000003&experimentId=LMEX0000000022&imageId=LMEX0000000022_IMG_3)(??, discrete cells)"
   ]
  },
  {
   "cell_type": "markdown",
   "metadata": {},
   "source": [
    "### Tuba1a, Scgb1a1, Nkx2-1"
   ]
  },
  {
   "cell_type": "markdown",
   "metadata": {},
   "source": [
    "* [E16.5](http://lungmap.net/breath-image-annotation-page/?experimentTypeId=LMXT0000000003&experimentId=LMEX0000000047&imageId=LMEX0000000047_IMG_1)(nerve\\*, bronchioles, acinar tubules)\n",
    "* [E18.5](http://lungmap.net/breath-image-annotation-page/?experimentTypeId=LMXT0000000003&experimentId=LMEX0000000049&imageId=LMEX0000000049_IMG_1)(nerve, bronchioles)\n",
    "* [P01](http://lungmap.net/breath-image-annotation-page/?experimentTypeId=LMXT0000000003&experimentId=LMEX0000000581&imageId=LMEX0000000581_IMG_1)(nerve, bronchioles)\n",
    "* [P07](http://lungmap.net/breath-image-annotation-page/?experimentTypeId=LMXT0000000003&experimentId=LMEX0000000046&imageId=LMEX0000000046_IMG_1)(nerve, bronchioles)\n",
    "* [P14](http://lungmap.net/breath-image-annotation-page/?experimentTypeId=LMXT0000000003&experimentId=LMEX0000000230&imageId=LMEX0000000230_IMG_4)(nerve, bronchioles)"
   ]
  },
  {
   "cell_type": "markdown",
   "metadata": {},
   "source": []
  }
 ],
 "metadata": {
  "anaconda-cloud": {},
  "kernelspec": {
   "display_name": "Python [default]",
   "language": "python",
   "name": "python3"
  },
  "language_info": {
   "codemirror_mode": {
    "name": "ipython",
    "version": 3
   },
   "file_extension": ".py",
   "mimetype": "text/x-python",
   "name": "python",
   "nbconvert_exporter": "python",
   "pygments_lexer": "ipython3",
   "version": "3.5.2"
  }
 },
 "nbformat": 4,
 "nbformat_minor": 1
}
