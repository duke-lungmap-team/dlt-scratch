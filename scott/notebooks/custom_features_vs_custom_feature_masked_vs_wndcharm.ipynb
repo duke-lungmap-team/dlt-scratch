{
 "metadata": {
  "name": "",
  "signature": "sha256:45b099c9825a29dff2e9ffe72ab59341c02d202861de454bbc85ba7c802f5e0c"
 },
 "nbformat": 3,
 "nbformat_minor": 0,
 "worksheets": [
  {
   "cells": [
    {
     "cell_type": "code",
     "collapsed": false,
     "input": [
      "import numpy as np\n",
      "import pandas as pd\n",
      "import glob\n",
      "import os\n",
      "import warnings\n",
      "import time\n",
      "\n",
      "from sklearn.grid_search import GridSearchCV\n",
      "from sklearn.svm import SVC\n",
      "from sklearn.pipeline import Pipeline\n",
      "from sklearn.preprocessing import StandardScaler\n",
      "from sklearn.feature_selection import SelectFdr, SelectKBest\n",
      "from sklearn.cross_validation import (cross_val_score, train_test_split, cross_val_predict)\n",
      "from sklearn.metrics import (accuracy_score, classification_report)"
     ],
     "language": "python",
     "metadata": {},
     "outputs": [],
     "prompt_number": 1
    },
    {
     "cell_type": "code",
     "collapsed": false,
     "input": [
      "def parse_sig_files(sig_file_list):\n",
      "    ss = []\n",
      "    for f in sig_file_list:\n",
      "        row = []\n",
      "        with open(f) as fin:\n",
      "            folder, filename = os.path.split(f) \n",
      "            folder, p = os.path.split(folder)\n",
      "            if p.startswith('background'):\n",
      "                class_id = 1\n",
      "                class_name = 'background'\n",
      "            elif p.startswith('distal_acinar_tubule'):\n",
      "                class_id = 2\n",
      "                class_name = 'distal_acinar_tubule'\n",
      "            elif p.startswith('proximal_acinar_tubule'):\n",
      "                class_id = 3\n",
      "                class_name = 'proximal_acinar_tubule'\n",
      "            elif p.startswith('bronchiole'):\n",
      "                class_id = 4\n",
      "                class_name = 'bronchiole'\n",
      "            elif p.startswith('blood_vessel'):\n",
      "                class_id = 5\n",
      "                class_name = 'blood_vessel'\n",
      "            else:\n",
      "                print('Unknown class', p)\n",
      "            lines = fin.readlines()\n",
      "\n",
      "            vals = []\n",
      "            features = []\n",
      "            path = lines[1]\n",
      "            for line in lines[2:]:\n",
      "                val, feature = line.split('\\t')\n",
      "                vals.append(val)\n",
      "                features.append(feature.strip())\n",
      "            features.extend(['class_id', 'class', 'Path'])\n",
      "            vals.extend([class_id, class_name, f])\n",
      "            s = pd.Series(vals, index=features)\n",
      "            ss.append(s)\n",
      "    \n",
      "    return ss"
     ],
     "language": "python",
     "metadata": {},
     "outputs": [],
     "prompt_number": 2
    },
    {
     "cell_type": "code",
     "collapsed": false,
     "input": [
      "wndcharm_sigs = glob.glob('data/mouse_16.5_20x/LMEX0000000073_acta2_sftpc_sox9/poly/*/*wndcharm.sig')\n",
      "custom_sigs = glob.glob('data/mouse_16.5_20x/LMEX0000000073_acta2_sftpc_sox9/poly/*/*custom.sig')\n",
      "custom_masked_sigs = glob.glob('data/mouse_16.5_20x/LMEX0000000073_acta2_sftpc_sox9/poly/*/*custom_mask.sig')"
     ],
     "language": "python",
     "metadata": {},
     "outputs": [],
     "prompt_number": 3
    },
    {
     "cell_type": "code",
     "collapsed": false,
     "input": [
      "len(wndcharm_sigs), len(custom_sigs), len(custom_masked_sigs)"
     ],
     "language": "python",
     "metadata": {},
     "outputs": [
      {
       "metadata": {},
       "output_type": "pyout",
       "prompt_number": 4,
       "text": [
        "(426, 426, 426)"
       ]
      }
     ],
     "prompt_number": 4
    },
    {
     "cell_type": "code",
     "collapsed": false,
     "input": [
      "wndcharm_ser = parse_sig_files(wndcharm_sigs)\n",
      "custom_ser = parse_sig_files(custom_sigs)\n",
      "custom_mask_ser = parse_sig_files(custom_masked_sigs)"
     ],
     "language": "python",
     "metadata": {},
     "outputs": [],
     "prompt_number": 5
    },
    {
     "cell_type": "code",
     "collapsed": false,
     "input": [
      "wndcharm_df = pd.concat(wndcharm_ser, axis=1).T\n",
      "custom_df = pd.concat(custom_ser, axis=1).T\n",
      "custom_mask_df = pd.concat(custom_mask_ser, axis=1).T"
     ],
     "language": "python",
     "metadata": {},
     "outputs": [],
     "prompt_number": 6
    },
    {
     "cell_type": "code",
     "collapsed": false,
     "input": [
      "wndcharm_X = wndcharm_df.drop(['class', 'class_id', 'Path'], axis=1)\n",
      "wndcharm_y = wndcharm_df['class_id'].astype('int')\n",
      "\n",
      "custom_X = custom_df.drop(['class', 'class_id', 'Path'], axis=1)\n",
      "custom_y = custom_df['class_id'].astype('int')\n",
      "\n",
      "custom_mask_X = custom_mask_df.drop(['class', 'class_id', 'Path'], axis=1)\n",
      "custom_mask_y = custom_mask_df['class_id'].astype('int')"
     ],
     "language": "python",
     "metadata": {},
     "outputs": [],
     "prompt_number": 13
    },
    {
     "cell_type": "code",
     "collapsed": false,
     "input": [
      "wndcharm_y.unique()"
     ],
     "language": "python",
     "metadata": {},
     "outputs": [
      {
       "metadata": {},
       "output_type": "pyout",
       "prompt_number": 8,
       "text": [
        "array([2, 5, 4, 1, 3])"
       ]
      }
     ],
     "prompt_number": 8
    },
    {
     "cell_type": "code",
     "collapsed": false,
     "input": [
      "c_s = [0.01, 0.1, 1.0, 10.0, 100.0]\n",
      "gamma = [1e-4, 1e-3, 1e-2, 1e-1, 1, 10]\n",
      "svc_params = [{'kernel': ['rbf'], 'gamma': gamma, 'C': c_s},\n",
      "              {'kernel': ['linear'], 'C': c_s}]\n",
      "\n",
      "clf = GridSearchCV(SVC(probability=True), svc_params, cv=5)\n",
      "\n",
      "pipe = Pipeline([\n",
      "  ('standard_scalar', StandardScaler()),\n",
      "  ('feature_selection', SelectFdr()),\n",
      "  ('classification', clf)\n",
      "])\n",
      "\n",
      "pipe2 = Pipeline([\n",
      "  ('standard_scalar', StandardScaler()),\n",
      "  ('feature_selection', SelectFdr()),\n",
      "  ('classification', clf)\n",
      "])"
     ],
     "language": "python",
     "metadata": {},
     "outputs": [],
     "prompt_number": 9
    },
    {
     "cell_type": "code",
     "collapsed": false,
     "input": [
      "scores = {}\n",
      "\n",
      "with warnings.catch_warnings():\n",
      "    warnings.simplefilter('ignore')\n",
      "    \n",
      "    start = time.clock()\n",
      "    score = cross_val_score(pipe, wndcharm_X, wndcharm_y, cv=3, scoring='accuracy', n_jobs=-1)\n",
      "    print(score)\n",
      "    elapsed = time.clock() - start\n",
      "    \n",
      "scores[clf.estimator.__class__.__name__] = score.mean(), elapsed, score"
     ],
     "language": "python",
     "metadata": {},
     "outputs": [
      {
       "output_type": "stream",
       "stream": "stdout",
       "text": [
        "[ 0.95104895  0.96503497  0.97142857]\n"
       ]
      }
     ],
     "prompt_number": 10
    },
    {
     "cell_type": "code",
     "collapsed": false,
     "input": [
      "custom_scores = {}\n",
      "\n",
      "with warnings.catch_warnings():\n",
      "    start = time.clock()\n",
      "    score = cross_val_score(pipe, custom_X, custom_y, cv=3, scoring='accuracy', n_jobs=-1)\n",
      "    print(score)\n",
      "    elapsed = time.clock() - start\n",
      "\n",
      "custom_scores[clf.estimator.__class__.__name__] = score.mean(), elapsed, score"
     ],
     "language": "python",
     "metadata": {},
     "outputs": [
      {
       "output_type": "stream",
       "stream": "stdout",
       "text": [
        "[ 0.93706294  0.93706294  0.96428571]\n"
       ]
      },
      {
       "output_type": "stream",
       "stream": "stderr",
       "text": [
        "/usr/lib/python2.7/dist-packages/sklearn/feature_selection/univariate_selection.py:113: UserWarning: Features [57 60 62 66 69 71 75 78 80] are constant.\n",
        "  UserWarning)\n",
        "/usr/lib/python2.7/dist-packages/sklearn/feature_selection/univariate_selection.py:113: UserWarning: Features [57 60 62 66 69 71 75 78 80] are constant.\n",
        "  UserWarning)\n",
        "/usr/lib/python2.7/dist-packages/sklearn/feature_selection/univariate_selection.py:113: UserWarning: Features [57 60 61 62 66 69 70 71 75 78 79 80] are constant.\n",
        "  UserWarning)\n"
       ]
      }
     ],
     "prompt_number": 11
    },
    {
     "cell_type": "code",
     "collapsed": false,
     "input": [
      "custom_mask_scores = {}\n",
      "\n",
      "with warnings.catch_warnings():\n",
      "    start = time.clock()\n",
      "    score = cross_val_score(pipe, custom_mask_X, custom_mask_y, cv=3, scoring='accuracy', n_jobs=-1)\n",
      "    print(score)\n",
      "    elapsed = time.clock() - start\n",
      "\n",
      "custom_mask_scores[clf.estimator.__class__.__name__] = score.mean(), elapsed, score"
     ],
     "language": "python",
     "metadata": {},
     "outputs": [
      {
       "output_type": "stream",
       "stream": "stdout",
       "text": [
        "[ 0.96503497  0.95104895  1.        ]\n"
       ]
      },
      {
       "output_type": "stream",
       "stream": "stderr",
       "text": [
        "/usr/lib/python2.7/dist-packages/sklearn/feature_selection/univariate_selection.py:113: UserWarning: Features [57 60 62 66 69 71 75 78 80] are constant.\n",
        "  UserWarning)\n",
        "/usr/lib/python2.7/dist-packages/sklearn/feature_selection/univariate_selection.py:113: UserWarning: Features [60 62 69 71 78 80] are constant.\n",
        "  UserWarning)\n",
        "/usr/lib/python2.7/dist-packages/sklearn/feature_selection/univariate_selection.py:113: UserWarning: Features [60 62 69 71 78 80] are constant.\n",
        "  UserWarning)\n"
       ]
      }
     ],
     "prompt_number": 14
    },
    {
     "cell_type": "code",
     "collapsed": false,
     "input": [
      "for k, v in sorted(scores.items(), key=lambda x: x[1][0], reverse=True):\n",
      "    print 'wndcharm\\n', '%.3f' % v[0], '%8.2f' % v[1], v[2], '\\n'"
     ],
     "language": "python",
     "metadata": {},
     "outputs": [
      {
       "output_type": "stream",
       "stream": "stdout",
       "text": [
        "wndcharm\n",
        "0.963     5.30 [ 0.95104895  0.96503497  0.97142857] \n",
        "\n"
       ]
      }
     ],
     "prompt_number": 15
    },
    {
     "cell_type": "code",
     "collapsed": false,
     "input": [
      "for k, v in sorted(custom_scores.items(), key=lambda x: x[1][0], reverse=True):\n",
      "    print 'custom\\n', '%.3f' % v[0], '%8.2f' % v[1], v[2], '\\n'"
     ],
     "language": "python",
     "metadata": {},
     "outputs": [
      {
       "output_type": "stream",
       "stream": "stdout",
       "text": [
        "custom\n",
        "0.946     0.19 [ 0.93706294  0.93706294  0.96428571] \n",
        "\n"
       ]
      }
     ],
     "prompt_number": 16
    },
    {
     "cell_type": "code",
     "collapsed": false,
     "input": [
      "for k, v in sorted(custom_mask_scores.items(), key=lambda x: x[1][0], reverse=True):\n",
      "    print 'custom masked\\n', '%.3f' % v[0], '%8.2f' % v[1], v[2], '\\n'"
     ],
     "language": "python",
     "metadata": {},
     "outputs": [
      {
       "output_type": "stream",
       "stream": "stdout",
       "text": [
        "custom masked\n",
        "0.972     0.17 [ 0.96503497  0.95104895  1.        ] \n",
        "\n"
       ]
      }
     ],
     "prompt_number": 17
    },
    {
     "cell_type": "code",
     "collapsed": false,
     "input": [
      "wndcharm_df.groupby('class')['class_id'].count()"
     ],
     "language": "python",
     "metadata": {},
     "outputs": [
      {
       "metadata": {},
       "output_type": "pyout",
       "prompt_number": 18,
       "text": [
        "class\n",
        "background                 84\n",
        "blood_vessel               20\n",
        "bronchiole                 35\n",
        "distal_acinar_tubule      234\n",
        "proximal_acinar_tubule     53\n",
        "Name: class_id, dtype: int64"
       ]
      }
     ],
     "prompt_number": 18
    },
    {
     "cell_type": "code",
     "collapsed": false,
     "input": [
      "target_labels = [1, 2, 3, 4, 5]\n",
      "target_names = [\n",
      "    'background',\n",
      "    'distal_acinar_tubule',\n",
      "    'proximal_acinar_tubule',\n",
      "    'bronchiole',\n",
      "    'blood_vessel'\n",
      "]"
     ],
     "language": "python",
     "metadata": {},
     "outputs": [],
     "prompt_number": 19
    },
    {
     "cell_type": "code",
     "collapsed": false,
     "input": [
      "wndcharm_X_train, wndcharm_X_test, wndcharm_y_train, wndcharm_y_test = train_test_split(wndcharm_X, wndcharm_y, random_state=123)\n",
      "\n",
      "with warnings.catch_warnings():\n",
      "    warnings.simplefilter('ignore')\n",
      "    pipe.fit(wndcharm_X_train, wndcharm_y_train)"
     ],
     "language": "python",
     "metadata": {},
     "outputs": [],
     "prompt_number": 20
    },
    {
     "cell_type": "code",
     "collapsed": false,
     "input": [
      "with warnings.catch_warnings():\n",
      "    warnings.simplefilter('ignore')\n",
      "    wndcharm_y_pred = pipe.predict(wndcharm_X_test)\n",
      "    print classification_report(wndcharm_y_test, wndcharm_y_pred, labels=target_labels, target_names=target_names)\n",
      "    print \"Accuracy = \", accuracy_score(wndcharm_y_test, wndcharm_y_pred)"
     ],
     "language": "python",
     "metadata": {},
     "outputs": [
      {
       "output_type": "stream",
       "stream": "stdout",
       "text": [
        "                        precision    recall  f1-score   support\n",
        "\n",
        "            background       1.00      0.88      0.94        25\n",
        "  distal_acinar_tubule       0.98      0.98      0.98        55\n",
        "proximal_acinar_tubule       0.78      0.88      0.82         8\n",
        "            bronchiole       0.92      0.92      0.92        13\n",
        "          blood_vessel       0.62      0.83      0.71         6\n",
        "\n",
        "           avg / total       0.94      0.93      0.94       107\n",
        "\n",
        "Accuracy =  0.934579439252\n"
       ]
      }
     ],
     "prompt_number": 21
    },
    {
     "cell_type": "code",
     "collapsed": false,
     "input": [
      "custom_X_train, custom_X_test, custom_y_train, custom_y_test = train_test_split(custom_X, custom_y, random_state=123)\n",
      "\n",
      "with warnings.catch_warnings():\n",
      "    warnings.simplefilter('ignore')\n",
      "    pipe2.fit(custom_X_train, custom_y_train)\n",
      "\n",
      "with warnings.catch_warnings():\n",
      "    warnings.simplefilter('ignore')\n",
      "    custom_y_pred = pipe2.predict(custom_X_test)\n",
      "    print classification_report(custom_y_test, custom_y_pred, labels=target_labels, target_names=target_names)\n",
      "    print \"Accuracy = \", accuracy_score(custom_y_test, custom_y_pred)"
     ],
     "language": "python",
     "metadata": {},
     "outputs": [
      {
       "output_type": "stream",
       "stream": "stdout",
       "text": [
        "                        precision    recall  f1-score   support\n",
        "\n",
        "            background       1.00      0.96      0.98        25\n",
        "  distal_acinar_tubule       1.00      1.00      1.00        55\n",
        "proximal_acinar_tubule       0.89      1.00      0.94         8\n",
        "            bronchiole       0.91      0.77      0.83        13\n",
        "          blood_vessel       0.62      0.83      0.71         6\n",
        "\n",
        "           avg / total       0.96      0.95      0.95       107\n",
        "\n",
        "Accuracy =  0.953271028037\n"
       ]
      }
     ],
     "prompt_number": 22
    },
    {
     "cell_type": "code",
     "collapsed": false,
     "input": [
      "custom_mask_X_train, custom_mask_X_test, custom_mask_y_train, custom_mask_y_test = train_test_split(\n",
      "    custom_mask_X, \n",
      "    custom_mask_y, \n",
      "    random_state=123\n",
      ")\n",
      "\n",
      "with warnings.catch_warnings():\n",
      "    warnings.simplefilter('ignore')\n",
      "    pipe2.fit(custom_mask_X_train, custom_mask_y_train)\n",
      "\n",
      "with warnings.catch_warnings():\n",
      "    warnings.simplefilter('ignore')\n",
      "    custom_mask_y_pred = pipe2.predict(custom_mask_X_test)\n",
      "    print classification_report(custom_mask_y_test, custom_mask_y_pred, labels=target_labels, target_names=target_names)\n",
      "    print \"Accuracy = \", accuracy_score(custom_mask_y_test, custom_mask_y_pred)"
     ],
     "language": "python",
     "metadata": {},
     "outputs": [
      {
       "output_type": "stream",
       "stream": "stdout",
       "text": [
        "                        precision    recall  f1-score   support\n",
        "\n",
        "            background       1.00      0.96      0.98        25\n",
        "  distal_acinar_tubule       1.00      1.00      1.00        55\n",
        "proximal_acinar_tubule       0.89      1.00      0.94         8\n",
        "            bronchiole       1.00      0.85      0.92        13\n",
        "          blood_vessel       0.75      1.00      0.86         6\n",
        "\n",
        "           avg / total       0.98      0.97      0.97       107\n",
        "\n",
        "Accuracy =  0.971962616822\n"
       ]
      }
     ],
     "prompt_number": 23
    },
    {
     "cell_type": "code",
     "collapsed": false,
     "input": [],
     "language": "python",
     "metadata": {},
     "outputs": []
    }
   ],
   "metadata": {}
  }
 ]
}