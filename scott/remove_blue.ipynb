{
 "metadata": {
  "name": "",
  "signature": "sha256:2f26c199afc5e40e93ddec70d8d480f94eaba437a992f83f14e513e5d41e859f"
 },
 "nbformat": 3,
 "nbformat_minor": 0,
 "worksheets": [
  {
   "cells": [
    {
     "cell_type": "code",
     "collapsed": false,
     "input": [
      "import os\n",
      "import glob\n",
      "import re\n",
      "import cv2\n",
      "import matplotlib.pyplot as plt\n",
      "import numpy as np\n",
      "\n",
      "%matplotlib inline"
     ],
     "language": "python",
     "metadata": {},
     "outputs": []
    },
    {
     "cell_type": "code",
     "collapsed": false,
     "input": [
      "hsv_blue_lower = np.array([101, 39, 64])\n",
      "hsv_blue_upper = np.array([140, 255, 255])"
     ],
     "language": "python",
     "metadata": {},
     "outputs": []
    },
    {
     "cell_type": "code",
     "collapsed": false,
     "input": [
      "def create_blueless_imgs(img_paths, plot=False):\n",
      "\n",
      "    for p in img_paths:\n",
      "        img = cv2.imread(p)\n",
      "        img = cv2.cvtColor(img, cv2.COLOR_BGR2HSV)\n",
      "\n",
      "        mask_blue = cv2.inRange(img, hsv_blue_lower, hsv_blue_upper)\n",
      "        img_no_blue = cv2.bitwise_and(img, img, mask=~mask_blue)\n",
      "\n",
      "        if plot:\n",
      "            fig = plt.figure()\n",
      "            plt.imshow(cv2.cvtColor(img, cv2.COLOR_HSV2RGB))\n",
      "\n",
      "            fig = plt.figure()\n",
      "            plt.imshow(cv2.cvtColor(img_no_blue, cv2.COLOR_HSV2RGB))\n",
      "\n",
      "        match = re.search('(.+)\\.(.+)$', p)\n",
      "        output_filename = \"\".join(\n",
      "            [\n",
      "                match.groups()[0],\n",
      "                '_no-blue.',\n",
      "                match.groups()[1]\n",
      "            ]\n",
      "        )\n",
      "\n",
      "        cv2.imwrite(output_filename, cv2.cvtColor(img_no_blue, cv2.COLOR_HSV2BGR))"
     ],
     "language": "python",
     "metadata": {},
     "outputs": []
    },
    {
     "cell_type": "code",
     "collapsed": false,
     "input": [
      "data_dir = \"/path/to/images\"\n",
      "\n",
      "sub_dirs = os.listdir(data_dir)\n",
      "sub_dirs = sorted(sub_dirs)"
     ],
     "language": "python",
     "metadata": {},
     "outputs": []
    },
    {
     "cell_type": "code",
     "collapsed": false,
     "input": [
      "img_paths = []\n",
      "\n",
      "for d in sub_dirs:\n",
      "    imgs = glob.glob(\"/\".join([data_dir, d, '*.tif']))\n",
      "    img_paths.extend(imgs)"
     ],
     "language": "python",
     "metadata": {},
     "outputs": []
    },
    {
     "cell_type": "code",
     "collapsed": false,
     "input": [
      "print img_paths[0]"
     ],
     "language": "python",
     "metadata": {},
     "outputs": []
    },
    {
     "cell_type": "code",
     "collapsed": false,
     "input": [
      "create_blueless_imgs(img_paths)"
     ],
     "language": "python",
     "metadata": {},
     "outputs": []
    },
    {
     "cell_type": "code",
     "collapsed": false,
     "input": [
      "test_data_dir = \"/path/to/test_images\"\n",
      "\n",
      "test_img_paths = []\n",
      "\n",
      "test_imgs = glob.glob(\"/\".join([test_data_dir, '*.tif']))\n",
      "test_img_paths.extend(test_imgs)"
     ],
     "language": "python",
     "metadata": {},
     "outputs": []
    },
    {
     "cell_type": "code",
     "collapsed": false,
     "input": [
      "create_blueless_imgs(test_img_paths)"
     ],
     "language": "python",
     "metadata": {},
     "outputs": []
    },
    {
     "cell_type": "code",
     "collapsed": false,
     "input": [],
     "language": "python",
     "metadata": {},
     "outputs": []
    }
   ],
   "metadata": {}
  }
 ]
}