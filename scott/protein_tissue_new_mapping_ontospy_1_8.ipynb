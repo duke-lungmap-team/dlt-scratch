{
 "cells": [
  {
   "cell_type": "code",
   "execution_count": 1,
   "metadata": {},
   "outputs": [],
   "source": [
    "import json"
   ]
  },
  {
   "cell_type": "markdown",
   "metadata": {},
   "source": [
    "### Path to Lung Ontology File"
   ]
  },
  {
   "cell_type": "code",
   "execution_count": 2,
   "metadata": {},
   "outputs": [],
   "source": [
    "LOCAL_ONTOLOGY_FILE = '../Cell tissue test AMM.owl'"
   ]
  },
  {
   "cell_type": "markdown",
   "metadata": {},
   "source": [
    "### Installed Imports"
   ]
  },
  {
   "cell_type": "code",
   "execution_count": 3,
   "metadata": {},
   "outputs": [],
   "source": [
    "import ontospy"
   ]
  },
  {
   "cell_type": "markdown",
   "metadata": {},
   "source": [
    "### Define functions"
   ]
  },
  {
   "cell_type": "code",
   "execution_count": 4,
   "metadata": {},
   "outputs": [],
   "source": [
    "def get_onto_has_part_some(uri):\n",
    "    sparql_has_part_some_query = \"\"\"\n",
    "PREFIX rdfs: <http://www.w3.org/2000/01/rdf-schema#>\n",
    "PREFIX owl: <http://www.w3.org/2002/07/owl#>\n",
    "PREFIX : <http://www.semanticweb.org/am175/ontologies/2018/2/untitled-ontology-234#>\n",
    "SELECT ?c WHERE {\n",
    "    ?c rdfs:subClassOf ?restriction .\n",
    "    ?restriction owl:onProperty :has_part ; owl:someValuesFrom ?p .\n",
    "    VALUES ?p { <%s> }\n",
    "}\n",
    "\"\"\" % uri\n",
    "\n",
    "    results = onto.query(sparql_has_part_some_query)\n",
    "    \n",
    "    return results\n",
    "\n",
    "def recurse_has_part_some(uri):\n",
    "    parts = get_onto_has_part_some(uri)\n",
    "    \n",
    "    parts_list = []\n",
    "    \n",
    "    for p in parts:\n",
    "        sub_parts = recurse_has_part_some(p[0])\n",
    "        if sub_parts is not None and len(sub_parts) > 0:\n",
    "            parts_list.append(sub_parts)\n",
    "    if uri is not None:\n",
    "        return {uri.title(): parts_list}"
   ]
  },
  {
   "cell_type": "markdown",
   "metadata": {},
   "source": [
    "### Load Ontology"
   ]
  },
  {
   "cell_type": "code",
   "execution_count": 5,
   "metadata": {},
   "outputs": [],
   "source": [
    "onto = ontospy.Ontospy(uri_or_path=LOCAL_ONTOLOGY_FILE, rdf_format='xml')"
   ]
  },
  {
   "cell_type": "code",
   "execution_count": 6,
   "metadata": {},
   "outputs": [
    {
     "data": {
      "text/plain": [
       "[('',\n",
       "  rdflib.term.URIRef('http://www.semanticweb.org/am175/ontologies/2018/2/untitled-ontology-234#')),\n",
       " ('dc', rdflib.term.URIRef('http://purl.org/dc/elements/1.1/')),\n",
       " ('owl', rdflib.term.URIRef('http://www.w3.org/2002/07/owl#')),\n",
       " ('rdf', rdflib.term.URIRef('http://www.w3.org/1999/02/22-rdf-syntax-ns#')),\n",
       " ('rdfs', rdflib.term.URIRef('http://www.w3.org/2000/01/rdf-schema#')),\n",
       " ('sh', rdflib.term.URIRef('http://www.w3.org/ns/shacl#')),\n",
       " ('skos', rdflib.term.URIRef('http://www.w3.org/2004/02/skos/core#')),\n",
       " ('vann', rdflib.term.URIRef('http://purl.org/vocab/vann/')),\n",
       " ('void', rdflib.term.URIRef('http://rdfs.org/ns/void#')),\n",
       " ('xml', rdflib.term.URIRef('http://www.w3.org/XML/1998/namespace')),\n",
       " ('xsd', rdflib.term.URIRef('http://www.w3.org/2001/XMLSchema#'))]"
      ]
     },
     "execution_count": 6,
     "metadata": {},
     "output_type": "execute_result"
    }
   ],
   "source": [
    "onto.namespaces"
   ]
  },
  {
   "cell_type": "markdown",
   "metadata": {},
   "source": [
    "### Get Ontology Proteins"
   ]
  },
  {
   "cell_type": "code",
   "execution_count": 7,
   "metadata": {},
   "outputs": [],
   "source": [
    "sparql_proteins_query = \"\"\"\n",
    "PREFIX rdfs: <http://www.w3.org/2000/01/rdf-schema#>\n",
    "PREFIX : <http://www.semanticweb.org/am175/ontologies/2018/2/untitled-ontology-234#>\n",
    "SELECT ?p WHERE {\n",
    "    ?p rdfs:subClassOf :protein .\n",
    "}\n",
    "\"\"\"\n",
    "\n",
    "onto_proteins = onto.query(sparql_proteins_query)"
   ]
  },
  {
   "cell_type": "code",
   "execution_count": 8,
   "metadata": {},
   "outputs": [
    {
     "data": {
      "text/plain": [
       "[(rdflib.term.URIRef('http://www.semanticweb.org/am175/ontologies/2017/1/untitled-ontology-79#vimentin')),\n",
       " (rdflib.term.URIRef('http://www.semanticweb.org/am175/ontologies/2017/1/untitled-ontology-79#transcription_factor_SOX-9'))]"
      ]
     },
     "execution_count": 8,
     "metadata": {},
     "output_type": "execute_result"
    }
   ],
   "source": [
    "onto_proteins"
   ]
  },
  {
   "cell_type": "markdown",
   "metadata": {},
   "source": [
    "### Find related cells and tissues for proteins"
   ]
  },
  {
   "cell_type": "code",
   "execution_count": 9,
   "metadata": {},
   "outputs": [
    {
     "data": {
      "text/plain": [
       "[(rdflib.term.URIRef('http://www.semanticweb.org/am175/ontologies/2017/1/untitled-ontology-79#vimentin')),\n",
       " (rdflib.term.URIRef('http://www.semanticweb.org/am175/ontologies/2017/1/untitled-ontology-79#transcription_factor_SOX-9'))]"
      ]
     },
     "execution_count": 9,
     "metadata": {},
     "output_type": "execute_result"
    }
   ],
   "source": [
    "onto_proteins"
   ]
  },
  {
   "cell_type": "code",
   "execution_count": 10,
   "metadata": {},
   "outputs": [],
   "source": [
    "probe_relations = []\n",
    "\n",
    "for p_uri in onto_proteins:\n",
    "    probe_relations.append(recurse_has_part_some(p_uri[0]))"
   ]
  },
  {
   "cell_type": "code",
   "execution_count": 11,
   "metadata": {},
   "outputs": [
    {
     "name": "stdout",
     "output_type": "stream",
     "text": [
      "[\n",
      "  {\n",
      "    \"Http://Www.Semanticweb.Org/Am175/Ontologies/2017/1/Untitled-Ontology-79#Vimentin\": [\n",
      "      {\n",
      "        \"Http://Www.Semanticweb.Org/Am175/Ontologies/2017/1/Untitled-Ontology-79#Fibroblast\": []\n",
      "      }\n",
      "    ]\n",
      "  },\n",
      "  {\n",
      "    \"Http://Www.Semanticweb.Org/Am175/Ontologies/2017/1/Untitled-Ontology-79#Transcription_Factor_Sox-9\": [\n",
      "      {\n",
      "        \"Http://Www.Semanticweb.Org/Am175/Ontologies/2017/1/Untitled-Ontology-79#Unclassified_Fibroblast\": [\n",
      "          {\n",
      "            \"Http://Www.Semanticweb.Org/Am175/Ontologies/2017/1/Untitled-Ontology-79#Interstitial_Tissue\": []\n",
      "          }\n",
      "        ]\n",
      "      }\n",
      "    ]\n",
      "  }\n",
      "]\n"
     ]
    }
   ],
   "source": [
    "print(json.dumps(probe_relations, indent=2))"
   ]
  },
  {
   "cell_type": "code",
   "execution_count": null,
   "metadata": {},
   "outputs": [],
   "source": []
  }
 ],
 "metadata": {
  "kernelspec": {
   "display_name": "Python 3",
   "language": "python",
   "name": "python3"
  },
  "language_info": {
   "codemirror_mode": {
    "name": "ipython",
    "version": 3
   },
   "file_extension": ".py",
   "mimetype": "text/x-python",
   "name": "python",
   "nbconvert_exporter": "python",
   "pygments_lexer": "ipython3",
   "version": "3.5.2"
  }
 },
 "nbformat": 4,
 "nbformat_minor": 2
}
