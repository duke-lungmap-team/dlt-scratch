{
 "cells": [
  {
   "cell_type": "code",
   "execution_count": 48,
   "metadata": {
    "collapsed": true
   },
   "outputs": [],
   "source": [
    "import numpy as np\n",
    "import pandas as pd\n",
    "import glob\n",
    "import os"
   ]
  },
  {
   "cell_type": "code",
   "execution_count": 49,
   "metadata": {
    "collapsed": true
   },
   "outputs": [],
   "source": [
    "fs = glob.glob('wndchrm_test_data/*/*sig')"
   ]
  },
  {
   "cell_type": "code",
   "execution_count": 50,
   "metadata": {
    "collapsed": true
   },
   "outputs": [],
   "source": [
    "f = fs[0]"
   ]
  },
  {
   "cell_type": "code",
   "execution_count": 78,
   "metadata": {
    "collapsed": false
   },
   "outputs": [],
   "source": [
    "ss = []\n",
    "for f in fs:\n",
    "    row = []\n",
    "    with open(f) as fin:\n",
    "        folder, filename = os.path.split(f) \n",
    "        folder, p = os.path.split(folder)\n",
    "        if p.startswith('blue_bg'):\n",
    "            class_id = 1\n",
    "            class_name = 'blue_bg'\n",
    "        elif p.startswith('distal'):\n",
    "            class_id = 2\n",
    "            class_name = 'distal_acinar_tubule2'\n",
    "        elif p.startswith('proximal'):\n",
    "            class_id = 3\n",
    "            class_name = 'proximal_acinar_tubule'\n",
    "        else:\n",
    "            print('Unknown class', p)\n",
    "        lines = fin.readlines()\n",
    "\n",
    "        vals = []\n",
    "        features = []\n",
    "        path = lines[1]\n",
    "        for line in lines[2:]:\n",
    "            val, feature = line.split('\\t')\n",
    "            vals.append(val)\n",
    "            features.append(feature.strip())\n",
    "        features.extend(['class_id', 'class', 'Path'])\n",
    "        vals.extend([class_id, class_name, f])\n",
    "        s = pd.Series(vals, index=features)\n",
    "        ss.append(s)"
   ]
  },
  {
   "cell_type": "code",
   "execution_count": 79,
   "metadata": {
    "collapsed": false
   },
   "outputs": [],
   "source": [
    "df = pd.concat(ss, axis=1).T\n",
    "df.to_csv('dat2_features_no_blue_test.csv', index=False)"
   ]
  },
  {
   "cell_type": "code",
   "execution_count": 80,
   "metadata": {
    "collapsed": true
   },
   "outputs": [],
   "source": [
    "df0 = pd.read_csv('dat2_features_no_blue.csv')"
   ]
  },
  {
   "cell_type": "code",
   "execution_count": 81,
   "metadata": {
    "collapsed": false
   },
   "outputs": [],
   "source": [
    "df1 = pd.concat([df0, df], axis=0)"
   ]
  },
  {
   "cell_type": "code",
   "execution_count": 88,
   "metadata": {
    "collapsed": true
   },
   "outputs": [],
   "source": [
    "df1.to_csv('dat2_features_no_blue_all.csv', index=False)"
   ]
  },
  {
   "cell_type": "code",
   "execution_count": null,
   "metadata": {
    "collapsed": true
   },
   "outputs": [],
   "source": []
  }
 ],
 "metadata": {
  "kernelspec": {
   "display_name": "Python 3",
   "language": "python",
   "name": "python3"
  },
  "language_info": {
   "codemirror_mode": {
    "name": "ipython",
    "version": 3
   },
   "file_extension": ".py",
   "mimetype": "text/x-python",
   "name": "python",
   "nbconvert_exporter": "python",
   "pygments_lexer": "ipython3",
   "version": "3.5.2"
  }
 },
 "nbformat": 4,
 "nbformat_minor": 0
}
