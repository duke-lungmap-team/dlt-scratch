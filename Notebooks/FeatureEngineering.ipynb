{
 "cells": [
  {
   "cell_type": "markdown",
   "metadata": {},
   "source": [
    "# Extract candidate features from an image"
   ]
  },
  {
   "cell_type": "code",
   "execution_count": 3,
   "metadata": {
    "collapsed": false
   },
   "outputs": [],
   "source": [
    "%matplotlib inline\n",
    "\n",
    "import os\n",
    "import sys\n",
    "import glob\n",
    "\n",
    "import numpy as np\n",
    "import pandas as pd\n",
    "import scipy as sp\n",
    "import matplotlib.pyplot as plt\n",
    "import cv2\n",
    "from skimage.measure import regionprops\n",
    "import skimage\n",
    "from skimage.segmentation import find_boundaries\n",
    "\n",
    "#import seaborn as sns"
   ]
  },
  {
   "cell_type": "code",
   "execution_count": 4,
   "metadata": {
    "collapsed": true
   },
   "outputs": [],
   "source": [
    "from functools import partial"
   ]
  },
  {
   "cell_type": "code",
   "execution_count": 5,
   "metadata": {
    "collapsed": true
   },
   "outputs": [],
   "source": [
    "from numba import jit"
   ]
  },
  {
   "cell_type": "markdown",
   "metadata": {},
   "source": [
    "## Change path as appropriate for where your target images are"
   ]
  },
  {
   "cell_type": "code",
   "execution_count": 6,
   "metadata": {
    "collapsed": false
   },
   "outputs": [],
   "source": [
    "pos_path = os.path.join('mouse_16.5_20x', 'distal_acinar_tubule')\n",
    "neg_path = os.path.join('mouse_16.5_20x', 'distal_acinar_tubule_negative')"
   ]
  },
  {
   "cell_type": "markdown",
   "metadata": {},
   "source": [
    "## Candidate feature functions\n",
    "\n",
    "Currently all are color-based and return a scalar for the 2D array for each color (R, G,, B)."
   ]
  },
  {
   "cell_type": "code",
   "execution_count": 7,
   "metadata": {
    "collapsed": false
   },
   "outputs": [],
   "source": [
    "def mean_color(xs):\n",
    "    \"\"\"Return a vector of the mean value for each color.\"\"\"\n",
    "    return np.ma.mean(xs, axis=(0,1))\n",
    "\n",
    "def std_color(xs):\n",
    "    \"\"\"Return a vector of the standard deviation for each color.\"\"\"\n",
    "    return np.ma.std(xs, ddof=1, axis=(0,1))\n",
    "\n",
    "@jit\n",
    "def moment_color(xs, d=2):\n",
    "    \"\"\"Returns the central moments of order d.\n",
    "    \n",
    "    May not be numerically stable since there is risk of catastrophic cancellation.\n",
    "    \"\"\"\n",
    "    ans = np.zeros(3)\n",
    "    for i in range(3):\n",
    "        ys = np.ma.masked_array(xs[:,:,i])\n",
    "        m = np.ma.sum((ys - np.ma.mean(ys))**d)\n",
    "        ans[i] = m/ys.count()\n",
    "    return ans\n",
    "\n",
    "def pm_area_ratio(xs):\n",
    "\n",
    "    \"\"\"Return perimeter and area ratio for region inside contour.\"\"\"\n",
    "    \n",
    "    xs_avg = (xs[:,:,0]+xs[:,:,1]+xs[:,:,2])/3\n",
    "    len_h = []\n",
    "    len_v = []\n",
    "    for i in range (0,xs_avg.shape[0]-1):\n",
    "        lengthi = sum(xs_avg[i+1,:]==-1) - sum(xs_avg[i,:]==-1)\n",
    "        len_h.append(abs(lengthi))\n",
    "\n",
    "    for j in range (0,xs_avg.shape[1]-1):\n",
    "        lengthj = sum(xs_avg[:,j+1]==-1) - sum(xs_avg[:,j]==-1)\n",
    "        len_v.append(abs(lengthj))\n",
    "\n",
    "    perimeter = sum(len_h) + sum(len_v)\n",
    "    area = np.sum(xs[:,:] != -1)\n",
    "    ratio = perimeter/area\n",
    "    return np.array(ratio)\n",
    "\n",
    "def entropy(xs):\n",
    "    \"\"\"Return a vector of the entropy for each color.\"\"\"\n",
    "    \n",
    "    ent = np.zeros(3)\n",
    "    for i in range(3):\n",
    "        hist = np.histogram(xs[:,:,i], bins=256, normed=True)[0]\n",
    "        ent[i]=np.sum([p*np.log2(1.0/p) for p in hist if p>0])\n",
    "    return ent\n",
    "\n",
    "def major_axis_length(xs):\n",
    "    props = regionprops(f_)[0]\n",
    "    return props[major_axis_length]\n",
    "def minor_axis_length(xs):\n",
    "    props = regionprops(f_)[0]\n",
    "    return props[minor_axis_length]\n",
    "def orientation(xs):\n",
    "    props = regionprops(f_)[0]\n",
    "    return props[orientation]\n",
    "def equivalent_diameter(xs):\n",
    "    props = regionprops(f_)[0]\n",
    "    return props[equivalent_diameter]\n",
    "def perimeter(xs):\n",
    "    props = regionprops(f_)[0]\n",
    "    return props[perimeter]\n",
    "def solidity(xs):\n",
    "    props = regionprops(f_)[0]\n",
    "    return props[solidity]\n",
    "\n",
    "# Pleas add more features that you think might be useful\n",
    "# Each function should return a list or vector, even if it returns a scalar"
   ]
  },
  {
   "cell_type": "code",
   "execution_count": null,
   "metadata": {
    "collapsed": true
   },
   "outputs": [],
   "source": [
    "\"\"\"This cell defines the function for calculating `Fourier shape descriptors`\"\"\"\n",
    "\n",
    "def ComputeFSDFeatures(im_label, K=128, Fs=6, Delta=8, rprops=None):\n",
    "    #The following two lines are written by me. The rest of this cell are directly copied.\n",
    "    #Convert image to binary image because FSDs are related with \"shape\"\n",
    "    im_label[im_label != -1] = 1\n",
    "    \n",
    "    \"\"\"\n",
    "    Calculates `Fourier shape descriptors` for each objects.\n",
    "\n",
    "    Parameters\n",
    "    ----------\n",
    "    im_label : array_like\n",
    "        A labeled mask image wherein intensity of a pixel is the ID of the\n",
    "        object it belongs to. Non-zero values are considered to be foreground\n",
    "        objects.\n",
    "    K : int, optional\n",
    "        Number of points for boundary resampling to calculate fourier\n",
    "        descriptors. Default value = 128.\n",
    "    Fs : int, optional\n",
    "        Number of frequency bins for calculating FSDs. Default value = 6.\n",
    "    Delta : int, optional\n",
    "        Used to dilate nuclei and define cytoplasm region. Default value = 8.\n",
    "\n",
    "    rprops : output of skimage.measure.regionprops, optional\n",
    "        rprops = skimage.measure.regionprops( im_label ). If rprops is not\n",
    "        passed then it will be computed inside which will increase the\n",
    "        computation time.\n",
    "\n",
    "    Returns\n",
    "    -------\n",
    "    fdata: Pandas data frame containing the FSD features for each\n",
    "           object/label.\n",
    "\n",
    "    References\n",
    "    ----------\n",
    "    .. [1] D. Zhang et al. \"A comparative study on shape retrieval using\n",
    "       Fourier descriptors with different shape signatures,\" In Proc.\n",
    "       ICIMADE01, 2001.\n",
    "    \"\"\"\n",
    "    # List of feature names\n",
    "    feature_list = []\n",
    "    for i in range(0, Fs):\n",
    "        feature_list = np.append(feature_list, 'Shape.FSD' + str(i+1))\n",
    "\n",
    "    # get Label size x\n",
    "    sizex = im_label.shape[0]\n",
    "    sizey = im_label.shape[1]\n",
    "\n",
    "    # get the number of objects in Label\n",
    "    if rprops is None:\n",
    "        rprops = regionprops(im_label)\n",
    "\n",
    "    # create pandas data frame containing the features for each object\n",
    "    numFeatures = len(feature_list)\n",
    "    numLabels = len(rprops)\n",
    "    fdata = pd.DataFrame(np.zeros((numLabels, numFeatures)),\n",
    "                         columns=feature_list)\n",
    "\n",
    "    # fourier descriptors, spaced evenly over the interval 1:K/2\n",
    "    Interval = np.round(\n",
    "        np.power(\n",
    "            2, np.linspace(0, np.log2(K)-1, Fs+1, endpoint=True)\n",
    "        )\n",
    "    ).astype(np.uint8)\n",
    "\n",
    "    for i in range(numLabels):\n",
    "        # get bounds of dilated nucleus\n",
    "        min_row, max_row, min_col, max_col = \\\n",
    "            _GetBounds(rprops[i].bbox, Delta, sizex, sizey)\n",
    "        # grab label mask\n",
    "        lmask = (\n",
    "            im_label[min_row:max_row, min_col:max_col] == rprops[i].label\n",
    "        ).astype(np.bool)\n",
    "        # find boundaries\n",
    "        Bounds = np.argwhere(\n",
    "            find_boundaries(lmask, mode=\"inner\").astype(np.uint8) == 1\n",
    "        )\n",
    "        # check length of boundaries\n",
    "        if len(Bounds) < 2:\n",
    "            fdata.at[i, :] = 0\n",
    "        else:\n",
    "            # compute fourier descriptors\n",
    "            fdata.at[i, :] = _FSDs(Bounds[:, 0], Bounds[:, 1], K, Interval)\n",
    "\n",
    "    return fdata\n",
    "\n",
    "def _InterpolateArcLength(X, Y, K):\n",
    "    \"\"\"\n",
    "    Resamples boundary points [X, Y] at L total equal arc-length locations.\n",
    "\n",
    "    Parameters\n",
    "    ----------\n",
    "    X : array_like\n",
    "        x points of boundaries\n",
    "    Y : array_like\n",
    "        y points of boundaries\n",
    "    K : int\n",
    "        Number of points for boundary resampling to calculate fourier\n",
    "        descriptors. Default value = 128.\n",
    "\n",
    "    Returns\n",
    "    -------\n",
    "    iX : array_like\n",
    "        L-length vector of horizontal interpolated coordinates with equal\n",
    "        arc-length spacing.\n",
    "    iY : array_like\n",
    "        L-length vector of vertical interpolated coordinates with equal\n",
    "        arc-length spacing.\n",
    "    \"\"\"\n",
    "\n",
    "    # generate spaced points 0, 1/k, 1\n",
    "    interval = np.linspace(0, 1, K+1)\n",
    "    # get segment lengths\n",
    "    slens = np.sqrt(np.diff(X)**2 + np.diff(Y)**2)\n",
    "    # normalize to unit length\n",
    "    slens = np.true_divide(slens, slens.sum())\n",
    "    # calculate cumulative length along boundary\n",
    "    cumulative = np.zeros(len(slens)+1)\n",
    "    cumulative[1:] = np.cumsum(slens)\n",
    "    # place points in 'Interval' along boundary\n",
    "    locations = np.digitize(interval, cumulative)\n",
    "    # clip to ends\n",
    "    locations[locations > len(slens)] = len(slens)\n",
    "    # linear interpolation\n",
    "    Lie = (interval - cumulative[locations-1])/slens[locations-1]\n",
    "    iX = X[locations-1] + (X[locations]-X[locations-1])*Lie\n",
    "    iY = Y[locations-1] + (Y[locations]-Y[locations-1])*Lie\n",
    "\n",
    "    return iX, iY\n",
    "\n",
    "\n",
    "def _FSDs(X, Y, K, Intervals):\n",
    "    \"\"\"\n",
    "    Calculated FSDs from boundary points X,Y. Boundaries are resampled to have\n",
    "    K equally spaced points (arclength) around the shape. The curvature is\n",
    "    calculated using the cumulative angular function, measuring the\n",
    "    displacement of the tangent angle from the starting point of the boundary.\n",
    "    The K-length fft of the cumulative angular function is calculated, and\n",
    "    then the elements of 'F' are summed as the spectral energy over\n",
    "    'Intervals'.\n",
    "\n",
    "    Parameters\n",
    "    ----------\n",
    "    X : array_like\n",
    "        x points of boundaries\n",
    "    Y : array_like\n",
    "        y points of boundaries\n",
    "    K : int\n",
    "        Number of points for boundary resampling to calculate fourier\n",
    "        descriptors. Default value = 128.\n",
    "    Intervals : array_like\n",
    "        Intervals spaced evenly over 1:K/2.\n",
    "\n",
    "    Returns\n",
    "    -------\n",
    "    F : array_like\n",
    "        length(Intervals) vector containing spectral energy of\n",
    "        cumulative angular function, summed over defined 'Intervals'.\n",
    "    \"\"\"\n",
    "\n",
    "    # check input 'Intervals'\n",
    "    if Intervals[0] != 1.:\n",
    "        Intervals = np.hstack((1., Intervals))\n",
    "    if Intervals[-1] != (K / 2):\n",
    "        Intervals = np.hstack((Intervals, float(K)))\n",
    "    # get length of intervals\n",
    "    L = len(Intervals)\n",
    "    # initialize F\n",
    "    F = np.zeros((L-1, )).astype(float)\n",
    "    # interpolate boundaries\n",
    "    iX, iY = _InterpolateArcLength(X, Y, K)\n",
    "    # check if iXY.iX is not empty\n",
    "    if iX.size:\n",
    "        # calculate curvature\n",
    "        Curvature = np.arctan2(\n",
    "            (iY[1:] - iY[:-1]),\n",
    "            (iX[1:] - iX[:-1])\n",
    "        )\n",
    "        # make curvature cumulative\n",
    "        Curvature = Curvature - Curvature[0]\n",
    "        # calculate FFT\n",
    "        fX = np.fft.fft(Curvature).T\n",
    "        # spectral energy\n",
    "        fX = fX * fX.conj()\n",
    "        fX = fX / fX.sum()\n",
    "        # calculate 'F' values\n",
    "        for i in range(L-1):\n",
    "            F[i] = np.round(\n",
    "                fX[Intervals[i]-1:Intervals[i+1]].sum(), L\n",
    "            ).real.astype(float)\n",
    "\n",
    "    return F\n",
    "\n",
    "\n",
    "def _GetBounds(bbox, delta, M, N):\n",
    "    \"\"\"\n",
    "    Returns bounds of object in global label image.\n",
    "\n",
    "    Parameters\n",
    "    ----------\n",
    "    bbox : tuple\n",
    "        Bounding box (min_row, min_col, max_row, max_col).\n",
    "    delta : int\n",
    "        Used to dilate nuclei and define cytoplasm region.\n",
    "        Default value = 8.\n",
    "    M : int\n",
    "        X size of label image.\n",
    "    N : int\n",
    "        Y size of label image.\n",
    "\n",
    "    Returns\n",
    "    -------\n",
    "    min_row : int\n",
    "        Minum row of the region bounds.\n",
    "    max_row : int\n",
    "        Maximum row of the region bounds.\n",
    "    min_col : int\n",
    "        Minum column of the region bounds.\n",
    "    max_col : int\n",
    "        Maximum column of the region bounds.\n",
    "    \"\"\"\n",
    "\n",
    "    min_row, min_col, max_row, max_col = bbox\n",
    "\n",
    "    min_row_out = max(0, (min_row - delta))\n",
    "    max_row_out = min(M-1, (max_row + delta))\n",
    "    min_col_out = max(0, (min_col - delta))\n",
    "    max_col_out = min(N-1, (max_col + delta))\n",
    "\n",
    "    return min_row_out, max_row_out, min_col_out, max_col_out"
   ]
  },
  {
   "cell_type": "code",
   "execution_count": 8,
   "metadata": {
    "collapsed": false
   },
   "outputs": [],
   "source": [
    "feature_map = dict(\n",
    "    mean_color=mean_color, \n",
    "    std_color=std_color, \n",
    "    moment_color_2=moment_color,\n",
    "    moment_color_3=partial(moment_color, d=3),\n",
    "    pm_area_ratio=pm_area_ratio,\n",
    "    entropy=entropy,\n",
    "    major_axis_length=major_axis_length,\n",
    "    minor_axis_length=minor_axis_length,\n",
    "    orientation=orientation,\n",
    "    equivalent_diameter=equivalent_diameter,\n",
    "    perimeter=perimeter,\n",
    "    solidity=solidity,\n",
    "    ComputeFSDFeatures=ComputeFSDFeatures\n",
    "    )"
   ]
  },
  {
   "cell_type": "code",
   "execution_count": null,
   "metadata": {
    "collapsed": true
   },
   "outputs": [],
   "source": [
    "feature_map[feature]"
   ]
  },
  {
   "cell_type": "code",
   "execution_count": 22,
   "metadata": {
    "collapsed": true
   },
   "outputs": [],
   "source": [
    "def build_features(xs, features):\n",
    "    ans = []\n",
    "    for feature in features:\n",
    "        f = feature_map[feature]\n",
    "        ans.append(f(xs))\n",
    "    return np.concatenate(ans)"
   ]
  },
  {
   "cell_type": "markdown",
   "metadata": {},
   "source": [
    "## Construct a vector of features for each image"
   ]
  },
  {
   "cell_type": "code",
   "execution_count": 8,
   "metadata": {
    "collapsed": false
   },
   "outputs": [],
   "source": [
    "features = ['mean_color', 'std_color', 'moment_color_2', 'moment_color_3', 'pm_area_ratio', 'entropy', \n",
    "            \"major_axis_length\", \"minor_axis_length\", \"orientation\",\"equivalent_diameter\",\n",
    "               \"perimeter\",\"solidity\",'ComputeFSDFeatures']\n",
    "image_features = {}\n",
    "pos_files = glob.glob(os.path.join(pos_path, '*npy'))\n",
    "for f in pos_files[:3]:\n",
    "    path, filename = os.path.split(f)\n",
    "    name, ext = os.path.splitext(filename)\n",
    "    xs = np.load(f)\n",
    "    ys = np.ma.masked_array(xs, mask=xs==-1)\n",
    "    image_features[name] = build_features(ys, features)"
   ]
  },
  {
   "cell_type": "code",
   "execution_count": 9,
   "metadata": {
    "collapsed": false
   },
   "outputs": [
    {
     "data": {
      "text/plain": [
       "{'2015-04-029_20X_C57Bl6_E16.5_LMM.14.24.4.46_SOX9_SFTPC_ACTA2_001__1002,2261_': masked_array(data = [  1.08400208e+02   1.92591476e+02   1.17720028e+02   3.29237381e+01\n",
       "    5.28633678e+01   3.94607753e+01   1.08359694e+03   2.79356734e+03\n",
       "    1.55661323e+03  -2.31908577e+04  -1.32818538e+05   6.62708433e+04],\n",
       "              mask = False,\n",
       "        fill_value = 1e+20),\n",
       " '2015-04-029_20X_C57Bl6_E16.5_LMM.14.24.4.46_SOX9_SFTPC_ACTA2_001__1013,863_': masked_array(data = [  1.03080769e+02   2.08451923e+02   1.48193910e+02   3.58055364e+01\n",
       "    5.37714840e+01   6.13857755e+01   1.28162553e+03   2.89044577e+03\n",
       "    3.76700567e+03  -6.11707902e+03  -2.24180854e+05   6.83214785e+04],\n",
       "              mask = False,\n",
       "        fill_value = 1e+20),\n",
       " '2015-04-029_20X_C57Bl6_E16.5_LMM.14.24.4.46_SOX9_SFTPC_ACTA2_001__1016,1004_': masked_array(data = [  1.27169851e+02   2.27410120e+02   1.32866596e+02   3.09789564e+01\n",
       "    3.88830134e+01   6.50199444e+01   9.59356147e+02   1.51135374e+03\n",
       "    4.22609721e+03  -3.88396982e+03  -1.21168772e+05   3.35165830e+04],\n",
       "              mask = False,\n",
       "        fill_value = 1e+20)}"
      ]
     },
     "execution_count": 9,
     "metadata": {},
     "output_type": "execute_result"
    }
   ],
   "source": [
    "image_features"
   ]
  },
  {
   "cell_type": "code",
   "execution_count": 12,
   "metadata": {
    "collapsed": true
   },
   "outputs": [],
   "source": [
    "pos_path = \"G:\\\\2016\\\\Summer\\\\LungMAP\\\\Advanced\\\\segmented\\\\proximal_acinar_tubule\"\n",
    "neg_path = \"G:\\\\2016\\\\Summer\\\\LungMAP\\\\Advanced\\\\segmented\\\\distal_acinar_tubule_negative\""
   ]
  },
  {
   "cell_type": "code",
   "execution_count": 26,
   "metadata": {
    "collapsed": false
   },
   "outputs": [],
   "source": [
    "pos_files;"
   ]
  },
  {
   "cell_type": "code",
   "execution_count": 40,
   "metadata": {
    "collapsed": false
   },
   "outputs": [],
   "source": [
    "#Test for entropy\n",
    "features = ['mean_color', 'std_color', 'moment_color_2', 'moment_color_3', 'pm_area_ratio', 'entropy']\n",
    "features_sub = ['entropy']\n",
    "image_features_pos = {}\n",
    "image_features_neg = {}\n",
    "pos_files = glob.glob(os.path.join(pos_path, '*tif'))\n",
    "neg_files = glob.glob(os.path.join(neg_path, '*tif'))\n",
    "for f in pos_files:\n",
    "    path, filename = os.path.split(f)\n",
    "    name, ext = os.path.splitext(filename)\n",
    "    im = cv2.imread(f)\n",
    "    im = cv2.cvtColor(im, cv2.COLOR_BGR2RGB)\n",
    "    xs = np.array(im)\n",
    "    ys = np.ma.masked_array(xs, mask=xs==-1)\n",
    "    image_features_pos[name] = build_features(ys, features_sub)\n",
    "for f in neg_files:\n",
    "    path, filename = os.path.split(f)\n",
    "    name, ext = os.path.splitext(filename)\n",
    "    im = cv2.imread(f)\n",
    "    im = cv2.cvtColor(im, cv2.COLOR_BGR2RGB)\n",
    "    xs = np.array(im)\n",
    "    ys = np.ma.masked_array(xs, mask=xs==-1)\n",
    "    image_features_neg[name] = build_features(ys, features_sub)"
   ]
  },
  {
   "cell_type": "code",
   "execution_count": 70,
   "metadata": {
    "collapsed": false
   },
   "outputs": [],
   "source": [
    "# positive acinar tubules\n",
    "a = image_features_pos\n",
    "a_list = []\n",
    "for key, value in a.items():\n",
    "    temp = [key,value]\n",
    "    a_list.append(temp)\n",
    "    \n",
    "a_r = []\n",
    "for j in range(len(a_list)):\n",
    "    a_r.append(a_list[j][1][0])\n",
    "    \n",
    "a_g = []\n",
    "for j in range(len(a_list)):\n",
    "    a_g.append(a_list[j][1][1])\n",
    "    \n",
    "a_b = []\n",
    "for j in range(len(a_list)):\n",
    "    a_b.append(a_list[j][1][2])"
   ]
  },
  {
   "cell_type": "code",
   "execution_count": 71,
   "metadata": {
    "collapsed": false
   },
   "outputs": [
    {
     "data": {
      "image/png": "[encoded data removed]",
      "text/plain": [
       "<matplotlib.figure.Figure at 0x6320e9fcf8>"
      ]
     },
     "metadata": {},
     "output_type": "display_data"
    }
   ],
   "source": [
    "fig, axes = plt.subplots(1, 3, figsize=(20, 10), sharex=True, sharey=True,\n",
    "                         subplot_kw={'adjustable': 'box-forced'})\n",
    "axes[0].hist(a_r)\n",
    "axes[1].hist(a_g)\n",
    "axes[2].hist(a_b)\n",
    "plt.tight_layout()"
   ]
  },
  {
   "cell_type": "code",
   "execution_count": 78,
   "metadata": {
    "collapsed": false
   },
   "outputs": [],
   "source": [
    "# negative acinar tubules\n",
    "b = image_features_neg\n",
    "b_list = []\n",
    "for key, value in b.items():\n",
    "    temp = [key,value]\n",
    "    b_list.append(temp)\n",
    "    \n",
    "b_r = []\n",
    "for j in range(len(b_list)):\n",
    "    b_r.append(b_list[j][1][0])\n",
    "    \n",
    "b_g = []\n",
    "for j in range(len(b_list)):\n",
    "    b_g.append(b_list[j][1][1])\n",
    "    \n",
    "b_b = []\n",
    "for j in range(len(b_list)):\n",
    "    b_b.append(b_list[j][1][2])"
   ]
  },
  {
   "cell_type": "code",
   "execution_count": 79,
   "metadata": {
    "collapsed": false,
    "scrolled": true
   },
   "outputs": [
    {
     "data": {
      "image/png": "[encoded data removed]",
      "text/plain": [
       "<matplotlib.figure.Figure at 0x6322319cf8>"
      ]
     },
     "metadata": {},
     "output_type": "display_data"
    }
   ],
   "source": [
    "fig, axes = plt.subplots(1, 3, figsize=(20, 10), sharex=True, sharey=True,\n",
    "                         subplot_kw={'adjustable': 'box-forced'})\n",
    "axes[0].hist(b_r)\n",
    "axes[1].hist(b_g)\n",
    "axes[2].hist(b_b)\n",
    "plt.tight_layout()"
   ]
  },
  {
   "cell_type": "code",
   "execution_count": 80,
   "metadata": {
    "collapsed": false
   },
   "outputs": [],
   "source": [
    "# exclude almost totally black images (images with negative entropy)\n",
    "# negative acinar tubules\n",
    "b = image_features_neg\n",
    "b_list = []\n",
    "for key, value in b.items():\n",
    "    temp = [key,value]\n",
    "    b_list.append(temp)\n",
    "    \n",
    "b_r = []\n",
    "for j in range(len(b_list)):\n",
    "    if b_list[j][1][0]>0:\n",
    "        b_r.append(b_list[j][1][0])\n",
    "    \n",
    "b_g = []\n",
    "for j in range(len(b_list)):\n",
    "    if b_list[j][1][1]>0:\n",
    "        b_g.append(b_list[j][1][1])\n",
    "    \n",
    "b_b = []\n",
    "for j in range(len(b_list)):\n",
    "    if b_list[j][1][2]>0:\n",
    "        b_b.append(b_list[j][1][2])"
   ]
  },
  {
   "cell_type": "code",
   "execution_count": 81,
   "metadata": {
    "collapsed": false
   },
   "outputs": [
    {
     "data": {
      "image/png": "[encoded data removed]",
      "text/plain": [
       "<matplotlib.figure.Figure at 0x63223799e8>"
      ]
     },
     "metadata": {},
     "output_type": "display_data"
    }
   ],
   "source": [
    "fig, axes = plt.subplots(1, 3, figsize=(20, 10), sharex=True, sharey=True,\n",
    "                         subplot_kw={'adjustable': 'box-forced'})\n",
    "axes[0].hist(b_r)\n",
    "axes[1].hist(b_g)\n",
    "axes[2].hist(b_b)\n",
    "plt.tight_layout()"
   ]
  },
  {
   "cell_type": "code",
   "execution_count": null,
   "metadata": {
    "collapsed": true
   },
   "outputs": [],
   "source": []
  }
 ],
 "metadata": {
  "kernelspec": {
   "display_name": "Python 3",
   "language": "python",
   "name": "python3"
  },
  "language_info": {
   "codemirror_mode": {
    "name": "ipython",
    "version": 3
   },
   "file_extension": ".py",
   "mimetype": "text/x-python",
   "name": "python",
   "nbconvert_exporter": "python",
   "pygments_lexer": "ipython3",
   "version": "3.5.1"
  }
 },
 "nbformat": 4,
 "nbformat_minor": 0
}
