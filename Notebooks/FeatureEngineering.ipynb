{
 "cells": [
  {
   "cell_type": "markdown",
   "metadata": {},
   "source": [
    "# Extract candidate features from an image"
   ]
  },
  {
   "cell_type": "code",
   "execution_count": 1,
   "metadata": {
    "collapsed": false
   },
   "outputs": [],
   "source": [
    "%matplotlib inline\n",
    "\n",
    "import os\n",
    "import sys\n",
    "import glob\n",
    "\n",
    "import numpy as np\n",
    "import pandas as pd\n",
    "import scipy as sp\n",
    "import matplotlib.pyplot as plt\n",
    "import seaborn as sns"
   ]
  },
  {
   "cell_type": "code",
   "execution_count": 2,
   "metadata": {
    "collapsed": true
   },
   "outputs": [],
   "source": [
    "from functools import partial"
   ]
  },
  {
   "cell_type": "code",
   "execution_count": 3,
   "metadata": {
    "collapsed": true
   },
   "outputs": [],
   "source": [
    "from numba import jit"
   ]
  },
  {
   "cell_type": "markdown",
   "metadata": {},
   "source": [
    "## Change path as appropriate for where your target images are"
   ]
  },
  {
   "cell_type": "code",
   "execution_count": 10,
   "metadata": {
    "collapsed": false
   },
   "outputs": [],
   "source": [
    "pos_path = os.path.join('mouse_16.5_20x', 'distal_acinar_tubule')\n",
    "neg_path = os.path.join('mouse_16.5_20x', 'distal_acinar_tubule_negative')"
   ]
  },
  {
   "cell_type": "markdown",
   "metadata": {},
   "source": [
    "## Candidate feature functions\n",
    "\n",
    "Currently all are color-based and return a scalar for the 2D array for each color (R, G,, B)."
   ]
  },
  {
   "cell_type": "code",
   "execution_count": 5,
   "metadata": {
    "collapsed": false
   },
   "outputs": [],
   "source": [
    "def mean_color(xs):\n",
    "    \"\"\"Return a vector of the mean value for each color.\"\"\"\n",
    "    return np.ma.mean(xs, axis=(0,1))\n",
    "\n",
    "def std_color(xs):\n",
    "    \"\"\"Return a vector of the standard deviation for each color.\"\"\"\n",
    "    return np.ma.std(xs, ddof=1, axis=(0,1))\n",
    "\n",
    "@jit\n",
    "def moment_color(xs, d=2):\n",
    "    \"\"\"Returns the central moments of order d.\n",
    "    \n",
    "    May not be numerically stable since there is risk of catastrophic cancellation.\n",
    "    \"\"\"\n",
    "    ans = np.zeros(3)\n",
    "    for i in range(3):\n",
    "        ys = np.ma.masked_array(xs[:,:,i])\n",
    "        m = np.ma.sum((ys - np.ma.mean(ys))**d)\n",
    "        ans[i] = m/ys.count()\n",
    "    return ans\n",
    "\n",
    "def pm_area_ratio(xs):\n",
    "\n",
    "    \"\"\"Calculate perimeter and area ratio for region inside contour.\"\"\"\n",
    "    \n",
    "    xs_avg = (xs[:,:,0]+xs[:,:,1]+xs[:,:,2])/3\n",
    "    len_h = []\n",
    "    len_v = []\n",
    "    for i in range (0,xs_avg.shape[0]-1):\n",
    "        lengthi = sum(xs_avg[i+1,:]==-1) - sum(xs_avg[i,:]==-1)\n",
    "        len_h.append(abs(lengthi))\n",
    "\n",
    "    for j in range (0,xs_avg.shape[1]-1):\n",
    "        lengthj = sum(xs_avg[:,j+1]==-1) - sum(xs_avg[:,j]==-1)\n",
    "        len_v.append(abs(lengthj))\n",
    "\n",
    "    perimeter = sum(len_h) + sum(len_v)\n",
    "    area = np.sum(xs[:,:] != -1)\n",
    "    ratio = perimeter/area\n",
    "    return np.array(ratio)\n",
    "\n",
    "# Pleas add more features that you think might be useful\n",
    "# Each function should return a list or vector, even if it returns a scalar"
   ]
  },
  {
   "cell_type": "code",
   "execution_count": 6,
   "metadata": {
    "collapsed": true
   },
   "outputs": [],
   "source": [
    "feature_map = dict(\n",
    "    mean_color=mean_color, \n",
    "    std_color=std_color, \n",
    "    moment_color_2=moment_color,\n",
    "    moment_color_3=partial(moment_color, d=3),\n",
    "    pm_area_ratio=pm_area_ratio\n",
    "    )"
   ]
  },
  {
   "cell_type": "code",
   "execution_count": 7,
   "metadata": {
    "collapsed": true
   },
   "outputs": [],
   "source": [
    "def build_features(xs, features):\n",
    "    ans = []\n",
    "    for feature in features:\n",
    "        f = feature_map[feature]\n",
    "        ans.append(f(xs))\n",
    "    return np.concatenate(ans)"
   ]
  },
  {
   "cell_type": "markdown",
   "metadata": {},
   "source": [
    "## Construct a vector of features for each image"
   ]
  },
  {
   "cell_type": "code",
   "execution_count": 8,
   "metadata": {
    "collapsed": false
   },
   "outputs": [],
   "source": [
    "features = ['mean_color', 'std_color', 'moment_color_2', 'moment_color_3', 'pm_area_ratio']\n",
    "image_features = {}\n",
    "pos_files = glob.glob(os.path.join(pos_path, '*npy'))\n",
    "for f in pos_files[:3]:\n",
    "    path, filename = os.path.split(f)\n",
    "    name, ext = os.path.splitext(filename)\n",
    "    xs = np.load(f)\n",
    "    ys = np.ma.masked_array(xs, mask=xs==-1)\n",
    "    image_features[name] = build_features(ys, features)"
   ]
  },
  {
   "cell_type": "code",
   "execution_count": 9,
   "metadata": {
    "collapsed": false
   },
   "outputs": [
    {
     "data": {
      "text/plain": [
       "{'2015-04-029_20X_C57Bl6_E16.5_LMM.14.24.4.46_SOX9_SFTPC_ACTA2_001__1002,2261_': masked_array(data = [  1.08400208e+02   1.92591476e+02   1.17720028e+02   3.29237381e+01\n",
       "    5.28633678e+01   3.94607753e+01   1.08359694e+03   2.79356734e+03\n",
       "    1.55661323e+03  -2.31908577e+04  -1.32818538e+05   6.62708433e+04],\n",
       "              mask = False,\n",
       "        fill_value = 1e+20),\n",
       " '2015-04-029_20X_C57Bl6_E16.5_LMM.14.24.4.46_SOX9_SFTPC_ACTA2_001__1013,863_': masked_array(data = [  1.03080769e+02   2.08451923e+02   1.48193910e+02   3.58055364e+01\n",
       "    5.37714840e+01   6.13857755e+01   1.28162553e+03   2.89044577e+03\n",
       "    3.76700567e+03  -6.11707902e+03  -2.24180854e+05   6.83214785e+04],\n",
       "              mask = False,\n",
       "        fill_value = 1e+20),\n",
       " '2015-04-029_20X_C57Bl6_E16.5_LMM.14.24.4.46_SOX9_SFTPC_ACTA2_001__1016,1004_': masked_array(data = [  1.27169851e+02   2.27410120e+02   1.32866596e+02   3.09789564e+01\n",
       "    3.88830134e+01   6.50199444e+01   9.59356147e+02   1.51135374e+03\n",
       "    4.22609721e+03  -3.88396982e+03  -1.21168772e+05   3.35165830e+04],\n",
       "              mask = False,\n",
       "        fill_value = 1e+20)}"
      ]
     },
     "execution_count": 9,
     "metadata": {},
     "output_type": "execute_result"
    }
   ],
   "source": [
    "image_features"
   ]
  },
  {
   "cell_type": "code",
   "execution_count": null,
   "metadata": {
    "collapsed": true
   },
   "outputs": [],
   "source": []
  }
 ],
 "metadata": {
  "kernelspec": {
   "display_name": "Python 3",
   "language": "python",
   "name": "python3"
  },
  "language_info": {
   "codemirror_mode": {
    "name": "ipython",
    "version": 3
   },
   "file_extension": ".py",
   "mimetype": "text/x-python",
   "name": "python",
   "nbconvert_exporter": "python",
   "pygments_lexer": "ipython3",
   "version": "3.5.1"
  }
 },
 "nbformat": 4,
 "nbformat_minor": 0
}
