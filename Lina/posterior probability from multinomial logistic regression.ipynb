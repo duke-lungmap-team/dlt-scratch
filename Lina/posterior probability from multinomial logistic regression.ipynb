{
 "cells": [
  {
   "cell_type": "code",
   "execution_count": 1,
   "metadata": {
    "collapsed": true
   },
   "outputs": [],
   "source": [
    "import cv2\n",
    "import numpy as np\n",
    "import matplotlib.pyplot as plt\n",
    "import seaborn as sns\n",
    "import pandas as pd\n",
    "import warnings"
   ]
  },
  {
   "cell_type": "code",
   "execution_count": 2,
   "metadata": {
    "collapsed": true
   },
   "outputs": [],
   "source": [
    "from sklearn.preprocessing import StandardScaler\n",
    "from sklearn.feature_selection import (VarianceThreshold,SelectFdr)\n",
    "from sklearn.model_selection import train_test_split, GridSearchCV, cross_val_score\n",
    "from sklearn.linear_model import (LassoCV, LassoCV, RidgeCV, RidgeClassifier, RidgeClassifierCV, ElasticNet, ElasticNetCV,\n",
    "                                  RandomizedLogisticRegression)\n",
    "from sklearn.pipeline import Pipeline"
   ]
  },
  {
   "cell_type": "code",
   "execution_count": 3,
   "metadata": {
    "collapsed": true
   },
   "outputs": [],
   "source": [
    "df = pd.read_csv('/Users/lina/Documents/LungMAP/E16.5/Scott_customized_mask_features.csv')     # polygen training set\n",
    "X = df.ix[:, :-3]\n",
    "y = df.ix[:, -3].astype('int')"
   ]
  },
  {
   "cell_type": "code",
   "execution_count": 4,
   "metadata": {
    "collapsed": true
   },
   "outputs": [],
   "source": [
    "alpha = [1e-5, 1e-4, 1e-3, 1e-2, 1e-1, 1, 10]\n",
    "ridge_params = {'alpha': alpha}"
   ]
  },
  {
   "cell_type": "code",
   "execution_count": 5,
   "metadata": {
    "collapsed": true
   },
   "outputs": [],
   "source": [
    "clf = RidgeClassifierCV(alpha,cv=5,fit_intercept=True)\n",
    "pipe = Pipeline([\n",
    "  ('standard_scalar', StandardScaler()),\n",
    "  ('feature_selection', SelectFdr()),\n",
    "  ('classification', clf)\n",
    "])\n",
    "\n",
    "with warnings.catch_warnings():\n",
    "    warnings.simplefilter('ignore')\n",
    "    pipe.fit(X, y)"
   ]
  },
  {
   "cell_type": "code",
   "execution_count": 6,
   "metadata": {
    "collapsed": true
   },
   "outputs": [],
   "source": [
    "def prob_mnlr(X_train, y_train, X_pred, Coef):\n",
    "    \n",
    "    \"\"\" Calculate posterior probability using a multinomial logistic regression.\n",
    "    X_pred: a matrix of data (shape [n_subregions, m_features]) to be categorized\n",
    "    Coef: a matrix of regression coefficients (shape [K_classes, m_features])\n",
    "    Return predicted probability for each class\"\"\"\n",
    "    \n",
    "    X_scaler = StandardScaler()\n",
    "    X_train1 = X_scaler.fit_transform(X_train)\n",
    "    X_pred1 = X_scaler.transform(X_pred)    \n",
    "    X_sf = SelectFdr()\n",
    "    X_train2 = X_sf.fit_transform(X_train1,y_train)\n",
    "    X_pred2 = X_sf.transform(X_pred1)\n",
    "    \n",
    "    Nominator = np.exp(X_pred2 @ Coef.T)\n",
    "    Denominator = np.sum(Nominator,axis=1)\n",
    "    Out = Nominator / Denominator[:,None]\n",
    "    Out = pd.DataFrame(Out)\n",
    "    Out.columns = ['background','blood_vessel','bronchiole','distal_acinar_tubule','proximal_acinar_tubule']    \n",
    "    return Out"
   ]
  },
  {
   "cell_type": "markdown",
   "metadata": {},
   "source": [
    "### Test it out in 10 randomly selected sub-regions"
   ]
  },
  {
   "cell_type": "code",
   "execution_count": 7,
   "metadata": {
    "collapsed": true
   },
   "outputs": [],
   "source": [
    "np.random.seed(110)\n",
    "idx = np.random.choice(len(y),10,replace=False)\n",
    "x1 = X.iloc[idx]\n",
    "y1 = y[idx]"
   ]
  },
  {
   "cell_type": "code",
   "execution_count": 8,
   "metadata": {
    "collapsed": false,
    "scrolled": true
   },
   "outputs": [
    {
     "data": {
      "text/plain": [
       "134    3\n",
       "387    5\n",
       "116    3\n",
       "138    3\n",
       "286    4\n",
       "223    4\n",
       "333    4\n",
       "184    4\n",
       "201    4\n",
       "376    5\n",
       "Name: class_id, dtype: int64"
      ]
     },
     "execution_count": 8,
     "metadata": {},
     "output_type": "execute_result"
    }
   ],
   "source": [
    "y1"
   ]
  },
  {
   "cell_type": "code",
   "execution_count": 9,
   "metadata": {
    "collapsed": false
   },
   "outputs": [
    {
     "name": "stderr",
     "output_type": "stream",
     "text": [
      "/Users/lina/anaconda/lib/python3.5/site-packages/sklearn/feature_selection/univariate_selection.py:113: UserWarning: Features [60 62 69 71 78 80] are constant.\n",
      "  UserWarning)\n"
     ]
    },
    {
     "data": {
      "text/html": [
       "<div>\n",
       "<table border=\"1\" class=\"dataframe\">\n",
       "  <thead>\n",
       "    <tr style=\"text-align: right;\">\n",
       "      <th></th>\n",
       "      <th>background</th>\n",
       "      <th>blood_vessel</th>\n",
       "      <th>bronchiole</th>\n",
       "      <th>distal_acinar_tubule</th>\n",
       "      <th>proximal_acinar_tubule</th>\n",
       "    </tr>\n",
       "  </thead>\n",
       "  <tbody>\n",
       "    <tr>\n",
       "      <th>0</th>\n",
       "      <td>0.072749</td>\n",
       "      <td>0.103584</td>\n",
       "      <td>0.705041</td>\n",
       "      <td>0.036820</td>\n",
       "      <td>0.081806</td>\n",
       "    </tr>\n",
       "    <tr>\n",
       "      <th>1</th>\n",
       "      <td>0.179161</td>\n",
       "      <td>0.161631</td>\n",
       "      <td>0.146647</td>\n",
       "      <td>0.070436</td>\n",
       "      <td>0.442125</td>\n",
       "    </tr>\n",
       "    <tr>\n",
       "      <th>2</th>\n",
       "      <td>0.105217</td>\n",
       "      <td>0.174338</td>\n",
       "      <td>0.588601</td>\n",
       "      <td>0.047043</td>\n",
       "      <td>0.084800</td>\n",
       "    </tr>\n",
       "    <tr>\n",
       "      <th>3</th>\n",
       "      <td>0.194181</td>\n",
       "      <td>0.174678</td>\n",
       "      <td>0.401774</td>\n",
       "      <td>0.067347</td>\n",
       "      <td>0.162019</td>\n",
       "    </tr>\n",
       "    <tr>\n",
       "      <th>4</th>\n",
       "      <td>0.136237</td>\n",
       "      <td>0.200694</td>\n",
       "      <td>0.158248</td>\n",
       "      <td>0.381871</td>\n",
       "      <td>0.122949</td>\n",
       "    </tr>\n",
       "    <tr>\n",
       "      <th>5</th>\n",
       "      <td>0.180386</td>\n",
       "      <td>0.160397</td>\n",
       "      <td>0.173324</td>\n",
       "      <td>0.407464</td>\n",
       "      <td>0.078429</td>\n",
       "    </tr>\n",
       "    <tr>\n",
       "      <th>6</th>\n",
       "      <td>0.092644</td>\n",
       "      <td>0.149965</td>\n",
       "      <td>0.127839</td>\n",
       "      <td>0.505079</td>\n",
       "      <td>0.124473</td>\n",
       "    </tr>\n",
       "    <tr>\n",
       "      <th>7</th>\n",
       "      <td>0.125799</td>\n",
       "      <td>0.150763</td>\n",
       "      <td>0.138197</td>\n",
       "      <td>0.467942</td>\n",
       "      <td>0.117299</td>\n",
       "    </tr>\n",
       "    <tr>\n",
       "      <th>8</th>\n",
       "      <td>0.115664</td>\n",
       "      <td>0.148168</td>\n",
       "      <td>0.132254</td>\n",
       "      <td>0.447741</td>\n",
       "      <td>0.156174</td>\n",
       "    </tr>\n",
       "    <tr>\n",
       "      <th>9</th>\n",
       "      <td>0.141792</td>\n",
       "      <td>0.128423</td>\n",
       "      <td>0.129607</td>\n",
       "      <td>0.039663</td>\n",
       "      <td>0.560515</td>\n",
       "    </tr>\n",
       "  </tbody>\n",
       "</table>\n",
       "</div>"
      ],
      "text/plain": [
       "   background  blood_vessel  bronchiole  distal_acinar_tubule  \\\n",
       "0    0.072749      0.103584    0.705041              0.036820   \n",
       "1    0.179161      0.161631    0.146647              0.070436   \n",
       "2    0.105217      0.174338    0.588601              0.047043   \n",
       "3    0.194181      0.174678    0.401774              0.067347   \n",
       "4    0.136237      0.200694    0.158248              0.381871   \n",
       "5    0.180386      0.160397    0.173324              0.407464   \n",
       "6    0.092644      0.149965    0.127839              0.505079   \n",
       "7    0.125799      0.150763    0.138197              0.467942   \n",
       "8    0.115664      0.148168    0.132254              0.447741   \n",
       "9    0.141792      0.128423    0.129607              0.039663   \n",
       "\n",
       "   proximal_acinar_tubule  \n",
       "0                0.081806  \n",
       "1                0.442125  \n",
       "2                0.084800  \n",
       "3                0.162019  \n",
       "4                0.122949  \n",
       "5                0.078429  \n",
       "6                0.124473  \n",
       "7                0.117299  \n",
       "8                0.156174  \n",
       "9                0.560515  "
      ]
     },
     "execution_count": 9,
     "metadata": {},
     "output_type": "execute_result"
    }
   ],
   "source": [
    "prob_ridge = prob_mnlr(X_train=X, y_train=y, X_pred=x1, Coef=pipe._final_estimator.coef_)\n",
    "prob_ridge"
   ]
  },
  {
   "cell_type": "code",
   "execution_count": 10,
   "metadata": {
    "collapsed": true
   },
   "outputs": [],
   "source": [
    "with warnings.catch_warnings():\n",
    "    warnings.simplefilter('ignore')\n",
    "    y_pred = pipe.predict(x1)"
   ]
  },
  {
   "cell_type": "code",
   "execution_count": 11,
   "metadata": {
    "collapsed": false,
    "scrolled": true
   },
   "outputs": [
    {
     "data": {
      "text/plain": [
       "array([3, 5, 3, 3, 4, 4, 4, 4, 4, 5])"
      ]
     },
     "execution_count": 11,
     "metadata": {},
     "output_type": "execute_result"
    }
   ],
   "source": [
    "y_pred"
   ]
  },
  {
   "cell_type": "code",
   "execution_count": null,
   "metadata": {
    "collapsed": true
   },
   "outputs": [],
   "source": []
  }
 ],
 "metadata": {
  "kernelspec": {
   "display_name": "Python [conda root]",
   "language": "python",
   "name": "conda-root-py"
  },
  "language_info": {
   "codemirror_mode": {
    "name": "ipython",
    "version": 3
   },
   "file_extension": ".py",
   "mimetype": "text/x-python",
   "name": "python",
   "nbconvert_exporter": "python",
   "pygments_lexer": "ipython3",
   "version": "3.5.2"
  }
 },
 "nbformat": 4,
 "nbformat_minor": 1
}
