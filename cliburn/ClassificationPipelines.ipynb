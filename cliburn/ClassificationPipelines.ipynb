{
 "cells": [
  {
   "cell_type": "markdown",
   "metadata": {},
   "source": [
    "## Pipelines for image classification"
   ]
  },
  {
   "cell_type": "code",
   "execution_count": 1,
   "metadata": {
    "collapsed": true
   },
   "outputs": [],
   "source": [
    "%matplotlib inline"
   ]
  },
  {
   "cell_type": "code",
   "execution_count": 2,
   "metadata": {
    "collapsed": false
   },
   "outputs": [],
   "source": [
    "import time\n",
    "import warnings\n",
    "import operator\n",
    "import pickle\n",
    "from functools import partial, wraps\n",
    "\n",
    "import numpy as np\n",
    "import pandas as pd\n",
    "import matplotlib.pyplot as plt\n",
    "import seaborn as sns"
   ]
  },
  {
   "cell_type": "code",
   "execution_count": 3,
   "metadata": {
    "collapsed": true
   },
   "outputs": [],
   "source": [
    "np.set_printoptions(precision=3, suppress=True)"
   ]
  },
  {
   "cell_type": "code",
   "execution_count": 4,
   "metadata": {
    "collapsed": true
   },
   "outputs": [],
   "source": [
    "sns.set_context('notebook', font_scale=1.5)"
   ]
  },
  {
   "cell_type": "code",
   "execution_count": 67,
   "metadata": {
    "collapsed": false
   },
   "outputs": [],
   "source": [
    "from sklearn.preprocessing import StandardScaler\n",
    "from sklearn.decomposition import PCA\n",
    "from sklearn.manifold import TSNE\n",
    "from sklearn.cluster import FeatureAgglomeration\n",
    "from sklearn.feature_selection import (SelectKBest, SelectFromModel, \n",
    "                                       SelectFdr, SelectPercentile, \n",
    "                                       f_classif, mutual_info_classif, RFE, RFECV)\n",
    "from sklearn.svm import SVC, LinearSVC\n",
    "from sklearn.model_selection import (StratifiedKFold, cross_val_score, train_test_split,\n",
    "                                     cross_val_predict, GridSearchCV)\n",
    "from sklearn.linear_model import (LassoCV, RidgeClassifier, RidgeClassifierCV, \n",
    "                                  RandomizedLogisticRegression)\n",
    "from sklearn.metrics import (accuracy_score, roc_auc_score, f1_score, make_scorer,\n",
    "                             classification_report)\n",
    "\n",
    "from sklearn.neural_network import MLPClassifier\n",
    "from sklearn.neighbors import KNeighborsClassifier\n",
    "from sklearn.gaussian_process import GaussianProcessClassifier\n",
    "from sklearn.gaussian_process.kernels import RBF\n",
    "from sklearn.tree import DecisionTreeClassifier\n",
    "from sklearn.ensemble import (RandomForestClassifier, \n",
    "                              AdaBoostClassifier, ExtraTreesClassifier)\n",
    "from sklearn.naive_bayes import GaussianNB\n",
    "from sklearn.discriminant_analysis import QuadraticDiscriminantAnalysis\n",
    "\n",
    "from sklearn.pipeline import Pipeline"
   ]
  },
  {
   "cell_type": "markdown",
   "metadata": {},
   "source": [
    "## Read data"
   ]
  },
  {
   "cell_type": "code",
   "execution_count": 6,
   "metadata": {
    "collapsed": false
   },
   "outputs": [],
   "source": [
    "df = pd.read_csv('dat2_features_no_blue_all.csv')"
   ]
  },
  {
   "cell_type": "code",
   "execution_count": 7,
   "metadata": {
    "collapsed": false
   },
   "outputs": [
    {
     "data": {
      "text/plain": [
       "(312, 4062)"
      ]
     },
     "execution_count": 7,
     "metadata": {},
     "output_type": "execute_result"
    }
   ],
   "source": [
    "df.shape"
   ]
  },
  {
   "cell_type": "code",
   "execution_count": 8,
   "metadata": {
    "collapsed": false
   },
   "outputs": [
    {
     "data": {
      "text/plain": [
       "class\n",
       "blue_bg                   1.0\n",
       "distal_acinar_tubule2     2.0\n",
       "proximal_acinar_tubule    3.0\n",
       "Name: class_id, dtype: float64"
      ]
     },
     "execution_count": 8,
     "metadata": {},
     "output_type": "execute_result"
    }
   ],
   "source": [
    "df.groupby('class')['class_id'].mean()"
   ]
  },
  {
   "cell_type": "code",
   "execution_count": 9,
   "metadata": {
    "collapsed": true
   },
   "outputs": [],
   "source": [
    "X = df.ix[:, :-3]\n",
    "y = df.ix[:, -3].astype('int')"
   ]
  },
  {
   "cell_type": "markdown",
   "metadata": {},
   "source": [
    "## Classification"
   ]
  },
  {
   "cell_type": "code",
   "execution_count": 61,
   "metadata": {
    "collapsed": true
   },
   "outputs": [],
   "source": [
    "alpha = [1e-5, 1e-4, 1e-3, 1e-2, 1e-1, 1, 10]\n",
    "Cs = [0.01, 0.1, 1.0, 10.0, 100.0]\n",
    "gamma = [1e-4, 1e-3, 1e-2, 1e-1, 1, 10]\n",
    "learning_rate_init = [1e-4, 1e-3, 1e-2]\n",
    "max_depth = [1, 5, 10, None]\n",
    "max_features = [1, 5, 10, 'sqrt', 'log2', None]\n",
    "n_estimators = [5, 10, 25]\n",
    "n_neighbors = [3, 5, 7, 9, 11]"
   ]
  },
  {
   "cell_type": "code",
   "execution_count": 62,
   "metadata": {
    "collapsed": false
   },
   "outputs": [],
   "source": [
    "ridge_params = {'alpha': alpha}\n",
    "svc_params = [{'kernel': ['rbf'], 'gamma': gamma, 'C': Cs},\n",
    "              {'kernel': ['linear'], 'C': Cs}]\n",
    "dt_params = {'max_depth': max_depth, \n",
    "               'max_features': max_features}\n",
    "rf_params = {'max_depth': max_depth, 'n_estimators' : n_estimators, \n",
    "               'max_features': max_features}\n",
    "nn_params = {'alpha': alpha, 'learning_rate_init': learning_rate_init}\n",
    "knn_params = {'n_neighbors': n_neighbors}"
   ]
  },
  {
   "cell_type": "code",
   "execution_count": 28,
   "metadata": {
    "collapsed": false
   },
   "outputs": [],
   "source": [
    "clfs = [\n",
    "    GridSearchCV(RidgeClassifier(), ridge_params, cv=5),\n",
    "    GridSearchCV(KNeighborsClassifier(), knn_params, cv=5),\n",
    "    GridSearchCV(SVC(), svc_params, cv=5),\n",
    "    GridSearchCV(DecisionTreeClassifier(), dt_params, cv=5),\n",
    "    GridSearchCV(RandomForestClassifier(), rf_params, cv=5),\n",
    "    GridSearchCV(MLPClassifier(max_iter=1000), nn_params, cv=5),\n",
    "    ]"
   ]
  },
  {
   "cell_type": "code",
   "execution_count": 13,
   "metadata": {
    "collapsed": false
   },
   "outputs": [
    {
     "name": "stdout",
     "output_type": "stream",
     "text": [
      "RidgeClassifier\n",
      "[ 0.968  0.968  0.984  1.     0.967]\n",
      "KNeighborsClassifier\n",
      "[ 0.952  0.952  0.952  0.871  0.869]\n",
      "SVC\n",
      "[ 0.968  0.952  0.984  0.952  0.967]\n",
      "DecisionTreeClassifier\n",
      "[ 0.905  0.889  0.921  0.968  0.902]\n",
      "RandomForestClassifier\n",
      "[ 0.905  0.952  0.968  0.968  0.934]\n",
      "MLPClassifier\n",
      "[ 0.952  0.968  0.968  0.968  0.934]\n"
     ]
    }
   ],
   "source": [
    "try:\n",
    "    with open('socres.pic', 'rb') as f:\n",
    "        scores = pickle.load(f)\n",
    "except:\n",
    "    scores = {}\n",
    "\n",
    "for clf in clfs:\n",
    "    with warnings.catch_warnings():\n",
    "        print(clf.estimator.__class__.__name__)\n",
    "        warnings.simplefilter('ignore')\n",
    "        pipe = Pipeline([\n",
    "          ('standard_scalar', StandardScaler()),\n",
    "          ('feature_selection', SelectFdr()),\n",
    "          ('classification', clf)\n",
    "        ])\n",
    "        if repr(pipe) in scores:\n",
    "            continue\n",
    "        start = time.clock()\n",
    "        score = cross_val_score(pipe, X, y, cv=5, scoring='accuracy', n_jobs=-1)\n",
    "        print(score)\n",
    "        elapsed = time.clock() - start\n",
    "        scores[repr(pipe)] = score.mean(), elapsed, score\n",
    "with open('scores.pic', 'wb') as f:\n",
    "    pickle.dump(scores, f)"
   ]
  },
  {
   "cell_type": "markdown",
   "metadata": {},
   "source": [
    "## Sort by average cross-validation accuracy"
   ]
  },
  {
   "cell_type": "code",
   "execution_count": 14,
   "metadata": {
    "collapsed": false
   },
   "outputs": [
    {
     "name": "stdout",
     "output_type": "stream",
     "text": [
      "Pipeline(steps=[('standard_scalar', StandardScaler(copy=True, with_mean=True, with_std=True)), ('feature_selection', SelectFdr(alpha=0.05, score_func=<function f_classif at 0x11723b048>)), ('classification', GridSearchCV(cv=5, error_score='raise',\n",
      "       estimator=RidgeClassifier(alpha=1.0, class_weight=None...     pre_dispatch='2*n_jobs', refit=True, return_train_score=True,\n",
      "       scoring=None, verbose=0))])\n",
      " 0.98     0.38 [ 0.968  0.968  0.984  1.     0.967] \n",
      "\n",
      "Pipeline(steps=[('standard_scalar', StandardScaler(copy=True, with_mean=True, with_std=True)), ('feature_selection', SelectFdr(alpha=0.05, score_func=<function f_classif at 0x11723b048>)), ('classification', GridSearchCV(cv=5, error_score='raise',\n",
      "       estimator=SVC(C=1.0, cache_size=200, class_weight=None...     pre_dispatch='2*n_jobs', refit=True, return_train_score=True,\n",
      "       scoring=None, verbose=0))])\n",
      " 0.96     0.64 [ 0.968  0.952  0.984  0.952  0.967] \n",
      "\n",
      "Pipeline(steps=[('standard_scalar', StandardScaler(copy=True, with_mean=True, with_std=True)), ('feature_selection', SelectFdr(alpha=0.05, score_func=<function f_classif at 0x11723b048>)), ('classification', GridSearchCV(cv=5, error_score='raise',\n",
      "       estimator=MLPClassifier(activation='relu', alpha=0.000...     pre_dispatch='2*n_jobs', refit=True, return_train_score=True,\n",
      "       scoring=None, verbose=0))])\n",
      " 0.96     5.23 [ 0.952  0.968  0.968  0.968  0.934] \n",
      "\n",
      "Pipeline(steps=[('standard_scalar', StandardScaler(copy=True, with_mean=True, with_std=True)), ('feature_selection', SelectFdr(alpha=0.05, score_func=<function f_classif at 0x11723b048>)), ('classification', GridSearchCV(cv=5, error_score='raise',\n",
      "       estimator=RandomForestClassifier(bootstrap=True, class...     pre_dispatch='2*n_jobs', refit=True, return_train_score=True,\n",
      "       scoring=None, verbose=0))])\n",
      " 0.95     0.47 [ 0.905  0.952  0.968  0.968  0.934] \n",
      "\n",
      "Pipeline(steps=[('standard_scalar', StandardScaler(copy=True, with_mean=True, with_std=True)), ('feature_selection', SelectFdr(alpha=0.05, score_func=<function f_classif at 0x11723b048>)), ('classification', GridSearchCV(cv=5, error_score='raise',\n",
      "       estimator=KNeighborsClassifier(algorithm='auto', leaf_...     pre_dispatch='2*n_jobs', refit=True, return_train_score=True,\n",
      "       scoring=None, verbose=0))])\n",
      " 0.92     0.37 [ 0.952  0.952  0.952  0.871  0.869] \n",
      "\n",
      "Pipeline(steps=[('standard_scalar', StandardScaler(copy=True, with_mean=True, with_std=True)), ('feature_selection', SelectFdr(alpha=0.05, score_func=<function f_classif at 0x11723b048>)), ('classification', GridSearchCV(cv=5, error_score='raise',\n",
      "       estimator=DecisionTreeClassifier(class_weight=None, cr...     pre_dispatch='2*n_jobs', refit=True, return_train_score=True,\n",
      "       scoring=None, verbose=0))])\n",
      " 0.92     0.38 [ 0.905  0.889  0.921  0.968  0.902] \n",
      "\n"
     ]
    }
   ],
   "source": [
    "for k, v in sorted(scores.items(), key=lambda x: x[1][0], reverse=True):\n",
    "    print('%s\\n' % k, '%.2f' % v[0], '%8.2f' % v[1], v[2], '\\n')"
   ]
  },
  {
   "cell_type": "markdown",
   "metadata": {},
   "source": [
    "## Sort by time taken"
   ]
  },
  {
   "cell_type": "code",
   "execution_count": 15,
   "metadata": {
    "collapsed": false
   },
   "outputs": [
    {
     "name": "stdout",
     "output_type": "stream",
     "text": [
      "Pipeline(steps=[('standard_scalar', StandardScaler(copy=True, with_mean=True, with_std=True)), ('feature_selection', SelectFdr(alpha=0.05, score_func=<function f_classif at 0x11723b048>)), ('classification', GridSearchCV(cv=5, error_score='raise',\n",
      "       estimator=KNeighborsClassifier(algorithm='auto', leaf_...     pre_dispatch='2*n_jobs', refit=True, return_train_score=True,\n",
      "       scoring=None, verbose=0))])     0.92     0.37 [ 0.952  0.952  0.952  0.871  0.869]\n",
      "Pipeline(steps=[('standard_scalar', StandardScaler(copy=True, with_mean=True, with_std=True)), ('feature_selection', SelectFdr(alpha=0.05, score_func=<function f_classif at 0x11723b048>)), ('classification', GridSearchCV(cv=5, error_score='raise',\n",
      "       estimator=DecisionTreeClassifier(class_weight=None, cr...     pre_dispatch='2*n_jobs', refit=True, return_train_score=True,\n",
      "       scoring=None, verbose=0))])     0.92     0.38 [ 0.905  0.889  0.921  0.968  0.902]\n",
      "Pipeline(steps=[('standard_scalar', StandardScaler(copy=True, with_mean=True, with_std=True)), ('feature_selection', SelectFdr(alpha=0.05, score_func=<function f_classif at 0x11723b048>)), ('classification', GridSearchCV(cv=5, error_score='raise',\n",
      "       estimator=RidgeClassifier(alpha=1.0, class_weight=None...     pre_dispatch='2*n_jobs', refit=True, return_train_score=True,\n",
      "       scoring=None, verbose=0))])     0.98     0.38 [ 0.968  0.968  0.984  1.     0.967]\n",
      "Pipeline(steps=[('standard_scalar', StandardScaler(copy=True, with_mean=True, with_std=True)), ('feature_selection', SelectFdr(alpha=0.05, score_func=<function f_classif at 0x11723b048>)), ('classification', GridSearchCV(cv=5, error_score='raise',\n",
      "       estimator=RandomForestClassifier(bootstrap=True, class...     pre_dispatch='2*n_jobs', refit=True, return_train_score=True,\n",
      "       scoring=None, verbose=0))])     0.95     0.47 [ 0.905  0.952  0.968  0.968  0.934]\n",
      "Pipeline(steps=[('standard_scalar', StandardScaler(copy=True, with_mean=True, with_std=True)), ('feature_selection', SelectFdr(alpha=0.05, score_func=<function f_classif at 0x11723b048>)), ('classification', GridSearchCV(cv=5, error_score='raise',\n",
      "       estimator=SVC(C=1.0, cache_size=200, class_weight=None...     pre_dispatch='2*n_jobs', refit=True, return_train_score=True,\n",
      "       scoring=None, verbose=0))])     0.96     0.64 [ 0.968  0.952  0.984  0.952  0.967]\n",
      "Pipeline(steps=[('standard_scalar', StandardScaler(copy=True, with_mean=True, with_std=True)), ('feature_selection', SelectFdr(alpha=0.05, score_func=<function f_classif at 0x11723b048>)), ('classification', GridSearchCV(cv=5, error_score='raise',\n",
      "       estimator=MLPClassifier(activation='relu', alpha=0.000...     pre_dispatch='2*n_jobs', refit=True, return_train_score=True,\n",
      "       scoring=None, verbose=0))])     0.96     5.23 [ 0.952  0.968  0.968  0.968  0.934]\n"
     ]
    }
   ],
   "source": [
    "for k, v in sorted(scores.items(), key=lambda x: x[1][1], reverse=False):\n",
    "    print('%-40s' % k, '%8.2f' % v[0], '%8.2f' % v[1], v[2])"
   ]
  },
  {
   "cell_type": "markdown",
   "metadata": {},
   "source": [
    "## Pipeline with PCA"
   ]
  },
  {
   "cell_type": "code",
   "execution_count": 29,
   "metadata": {
    "collapsed": true
   },
   "outputs": [],
   "source": [
    "clfs = [\n",
    "    GridSearchCV(RidgeClassifier(), ridge_params, cv=5),\n",
    "    GridSearchCV(KNeighborsClassifier(), knn_params, cv=5),\n",
    "    GridSearchCV(SVC(), svc_params, cv=5),\n",
    "    GridSearchCV(DecisionTreeClassifier(), dt_params, cv=5),\n",
    "    GridSearchCV(RandomForestClassifier(), rf_params, cv=5),\n",
    "    # GridSearchCV(MLPClassifier(max_iter=1000), nn_params, cv=5),\n",
    "    ]"
   ]
  },
  {
   "cell_type": "code",
   "execution_count": 32,
   "metadata": {
    "collapsed": false
   },
   "outputs": [
    {
     "name": "stdout",
     "output_type": "stream",
     "text": [
      "RidgeClassifier\n",
      "[ 0.937  0.952  0.952  0.968  0.984]\n",
      "KNeighborsClassifier\n",
      "[ 0.937  0.952  0.937  0.887  0.902]\n",
      "SVC\n",
      "[ 0.952  0.937  1.     0.935  0.951]\n",
      "DecisionTreeClassifier\n",
      "[ 0.921  0.873  0.921  0.823  0.869]\n",
      "RandomForestClassifier\n",
      "[ 0.921  0.921  0.921  0.935  0.902]\n"
     ]
    }
   ],
   "source": [
    "try:\n",
    "    with open('socres_pca.pic', 'rb') as f:\n",
    "        scores_pca = pickle.load(f)\n",
    "except:\n",
    "    scores_pca = {}\n",
    "\n",
    "for clf in clfs:\n",
    "    with warnings.catch_warnings():\n",
    "        print(clf.estimator.__class__.__name__)\n",
    "        warnings.simplefilter('ignore')\n",
    "        pipe = Pipeline([\n",
    "          ('standard_scalar', StandardScaler()),\n",
    "          ('pca', PCA(n_components=25)),\n",
    "          # ('feature_selection', SelectFdr()),\n",
    "          ('classification', clf)\n",
    "        ])\n",
    "        if repr(pipe) in scores:\n",
    "            continue\n",
    "        start = time.clock()\n",
    "        score = cross_val_score(pipe, X, y, cv=5, scoring='accuracy', n_jobs=-1)\n",
    "        print(score)\n",
    "        elapsed = time.clock() - start\n",
    "        scores_pca[repr(pipe)] = score.mean(), elapsed, score\n",
    "with open('scores_pca.pic', 'wb') as f:\n",
    "    pickle.dump(scores_pca, f)"
   ]
  },
  {
   "cell_type": "markdown",
   "metadata": {},
   "source": [
    "## Sort by average cross-validation accuracy"
   ]
  },
  {
   "cell_type": "code",
   "execution_count": 33,
   "metadata": {
    "collapsed": false
   },
   "outputs": [
    {
     "name": "stdout",
     "output_type": "stream",
     "text": [
      "Pipeline(steps=[('standard_scalar', StandardScaler(copy=True, with_mean=True, with_std=True)), ('pca', PCA(copy=True, iterated_power='auto', n_components=25, random_state=None,\n",
      "  svd_solver='auto', tol=0.0, whiten=False)), ('classification', GridSearchCV(cv=5, error_score='raise',\n",
      "       estimator=RidgeClass...     pre_dispatch='2*n_jobs', refit=True, return_train_score=True,\n",
      "       scoring=None, verbose=0))])\n",
      " 0.96     0.41 [ 0.937  0.952  0.952  0.968  0.984] \n",
      "\n",
      "Pipeline(steps=[('standard_scalar', StandardScaler(copy=True, with_mean=True, with_std=True)), ('pca', PCA(copy=True, iterated_power='auto', n_components=25, random_state=None,\n",
      "  svd_solver='auto', tol=0.0, whiten=False)), ('classification', GridSearchCV(cv=5, error_score='raise',\n",
      "       estimator=SVC(C=1.0,...     pre_dispatch='2*n_jobs', refit=True, return_train_score=True,\n",
      "       scoring=None, verbose=0))])\n",
      " 0.96     0.35 [ 0.952  0.937  1.     0.935  0.951] \n",
      "\n",
      "Pipeline(steps=[('standard_scalar', StandardScaler(copy=True, with_mean=True, with_std=True)), ('pca', PCA(copy=True, iterated_power='auto', n_components=25, random_state=None,\n",
      "  svd_solver='auto', tol=0.0, whiten=False)), ('classification', GridSearchCV(cv=5, error_score='raise',\n",
      "       estimator=KNeighbors...     pre_dispatch='2*n_jobs', refit=True, return_train_score=True,\n",
      "       scoring=None, verbose=0))])\n",
      " 0.92     0.35 [ 0.937  0.952  0.937  0.887  0.902] \n",
      "\n",
      "Pipeline(steps=[('standard_scalar', StandardScaler(copy=True, with_mean=True, with_std=True)), ('pca', PCA(copy=True, iterated_power='auto', n_components=25, random_state=None,\n",
      "  svd_solver='auto', tol=0.0, whiten=False)), ('classification', GridSearchCV(cv=5, error_score='raise',\n",
      "       estimator=RandomFore...     pre_dispatch='2*n_jobs', refit=True, return_train_score=True,\n",
      "       scoring=None, verbose=0))])\n",
      " 0.92     0.36 [ 0.921  0.921  0.921  0.935  0.902] \n",
      "\n",
      "Pipeline(steps=[('standard_scalar', StandardScaler(copy=True, with_mean=True, with_std=True)), ('pca', PCA(copy=True, iterated_power='auto', n_components=25, random_state=None,\n",
      "  svd_solver='auto', tol=0.0, whiten=False)), ('classification', GridSearchCV(cv=5, error_score='raise',\n",
      "       estimator=DecisionTr...     pre_dispatch='2*n_jobs', refit=True, return_train_score=True,\n",
      "       scoring=None, verbose=0))])\n",
      " 0.88     0.34 [ 0.921  0.873  0.921  0.823  0.869] \n",
      "\n"
     ]
    }
   ],
   "source": [
    "for k, v in sorted(scores_pca.items(), key=lambda x: x[1][0], reverse=True):\n",
    "    print('%s\\n' % k, '%.2f' % v[0], '%8.2f' % v[1], v[2], '\\n')"
   ]
  },
  {
   "cell_type": "markdown",
   "metadata": {},
   "source": [
    "## Sort by time taken"
   ]
  },
  {
   "cell_type": "code",
   "execution_count": 34,
   "metadata": {
    "collapsed": false
   },
   "outputs": [
    {
     "name": "stdout",
     "output_type": "stream",
     "text": [
      "Pipeline(steps=[('standard_scalar', StandardScaler(copy=True, with_mean=True, with_std=True)), ('pca', PCA(copy=True, iterated_power='auto', n_components=25, random_state=None,\n",
      "  svd_solver='auto', tol=0.0, whiten=False)), ('classification', GridSearchCV(cv=5, error_score='raise',\n",
      "       estimator=DecisionTr...     pre_dispatch='2*n_jobs', refit=True, return_train_score=True,\n",
      "       scoring=None, verbose=0))])     0.88     0.34 [ 0.921  0.873  0.921  0.823  0.869]\n",
      "Pipeline(steps=[('standard_scalar', StandardScaler(copy=True, with_mean=True, with_std=True)), ('pca', PCA(copy=True, iterated_power='auto', n_components=25, random_state=None,\n",
      "  svd_solver='auto', tol=0.0, whiten=False)), ('classification', GridSearchCV(cv=5, error_score='raise',\n",
      "       estimator=SVC(C=1.0,...     pre_dispatch='2*n_jobs', refit=True, return_train_score=True,\n",
      "       scoring=None, verbose=0))])     0.96     0.35 [ 0.952  0.937  1.     0.935  0.951]\n",
      "Pipeline(steps=[('standard_scalar', StandardScaler(copy=True, with_mean=True, with_std=True)), ('pca', PCA(copy=True, iterated_power='auto', n_components=25, random_state=None,\n",
      "  svd_solver='auto', tol=0.0, whiten=False)), ('classification', GridSearchCV(cv=5, error_score='raise',\n",
      "       estimator=KNeighbors...     pre_dispatch='2*n_jobs', refit=True, return_train_score=True,\n",
      "       scoring=None, verbose=0))])     0.92     0.35 [ 0.937  0.952  0.937  0.887  0.902]\n",
      "Pipeline(steps=[('standard_scalar', StandardScaler(copy=True, with_mean=True, with_std=True)), ('pca', PCA(copy=True, iterated_power='auto', n_components=25, random_state=None,\n",
      "  svd_solver='auto', tol=0.0, whiten=False)), ('classification', GridSearchCV(cv=5, error_score='raise',\n",
      "       estimator=RandomFore...     pre_dispatch='2*n_jobs', refit=True, return_train_score=True,\n",
      "       scoring=None, verbose=0))])     0.92     0.36 [ 0.921  0.921  0.921  0.935  0.902]\n",
      "Pipeline(steps=[('standard_scalar', StandardScaler(copy=True, with_mean=True, with_std=True)), ('pca', PCA(copy=True, iterated_power='auto', n_components=25, random_state=None,\n",
      "  svd_solver='auto', tol=0.0, whiten=False)), ('classification', GridSearchCV(cv=5, error_score='raise',\n",
      "       estimator=RidgeClass...     pre_dispatch='2*n_jobs', refit=True, return_train_score=True,\n",
      "       scoring=None, verbose=0))])     0.96     0.41 [ 0.937  0.952  0.952  0.968  0.984]\n"
     ]
    }
   ],
   "source": [
    "for k, v in sorted(scores_pca.items(), key=lambda x: x[1][1], reverse=False):\n",
    "    print('%-40s' % k, '%8.2f' % v[0], '%8.2f' % v[1], v[2])"
   ]
  },
  {
   "cell_type": "markdown",
   "metadata": {
    "collapsed": true
   },
   "source": [
    "## Ridge"
   ]
  },
  {
   "cell_type": "code",
   "execution_count": 63,
   "metadata": {
    "collapsed": true
   },
   "outputs": [],
   "source": [
    "X_train, X_test, y_train, y_test = train_test_split(X, y, random_state=1)\n",
    "\n",
    "clf = GridSearchCV(RidgeClassifier(), ridge_params, cv=5)\n",
    "pipe = Pipeline([\n",
    "  ('standard_scalar', StandardScaler()),\n",
    "  ('feature_selection', SelectFdr()),\n",
    "  ('classification', clf)\n",
    "])"
   ]
  },
  {
   "cell_type": "code",
   "execution_count": 64,
   "metadata": {
    "collapsed": false
   },
   "outputs": [],
   "source": [
    "with warnings.catch_warnings():\n",
    "    warnings.simplefilter('ignore')\n",
    "    pipe.fit(X_train, y_train)"
   ]
  },
  {
   "cell_type": "code",
   "execution_count": 65,
   "metadata": {
    "collapsed": false
   },
   "outputs": [
    {
     "data": {
      "text/plain": [
       "({'alpha': 1e-05},\n",
       " {'mean_fit_time': array([ 0.049,  0.05 ,  0.048,  0.05 ,  0.048,  0.048,  0.055]),\n",
       "  'mean_score_time': array([ 0.001,  0.001,  0.001,  0.001,  0.001,  0.001,  0.001]),\n",
       "  'mean_test_score': array([ 0.962,  0.962,  0.962,  0.962,  0.962,  0.962,  0.962]),\n",
       "  'mean_train_score': array([ 1.,  1.,  1.,  1.,  1.,  1.,  1.]),\n",
       "  'param_alpha': masked_array(data = [1e-05 0.0001 0.001 0.01 0.1 1 10],\n",
       "               mask = [False False False False False False False],\n",
       "         fill_value = ?),\n",
       "  'params': ({'alpha': 1e-05},\n",
       "   {'alpha': 0.0001},\n",
       "   {'alpha': 0.001},\n",
       "   {'alpha': 0.01},\n",
       "   {'alpha': 0.1},\n",
       "   {'alpha': 1},\n",
       "   {'alpha': 10}),\n",
       "  'rank_test_score': array([1, 1, 1, 1, 1, 1, 1], dtype=int32),\n",
       "  'split0_test_score': array([ 0.938,  0.938,  0.938,  0.938,  0.938,  0.938,  0.938]),\n",
       "  'split0_train_score': array([ 1.,  1.,  1.,  1.,  1.,  1.,  1.]),\n",
       "  'split1_test_score': array([ 0.917,  0.917,  0.917,  0.917,  0.917,  0.917,  0.917]),\n",
       "  'split1_train_score': array([ 1.,  1.,  1.,  1.,  1.,  1.,  1.]),\n",
       "  'split2_test_score': array([ 0.978,  0.978,  0.978,  0.978,  0.978,  0.978,  0.978]),\n",
       "  'split2_train_score': array([ 1.,  1.,  1.,  1.,  1.,  1.,  1.]),\n",
       "  'split3_test_score': array([ 1.,  1.,  1.,  1.,  1.,  1.,  1.]),\n",
       "  'split3_train_score': array([ 1.,  1.,  1.,  1.,  1.,  1.,  1.]),\n",
       "  'split4_test_score': array([ 0.978,  0.978,  0.978,  0.978,  0.978,  0.978,  0.978]),\n",
       "  'split4_train_score': array([ 1.,  1.,  1.,  1.,  1.,  1.,  1.]),\n",
       "  'std_fit_time': array([ 0.001,  0.002,  0.001,  0.001,  0.   ,  0.001,  0.008]),\n",
       "  'std_score_time': array([ 0.,  0.,  0.,  0.,  0.,  0.,  0.]),\n",
       "  'std_test_score': array([ 0.031,  0.031,  0.031,  0.031,  0.031,  0.031,  0.031]),\n",
       "  'std_train_score': array([ 0.,  0.,  0.,  0.,  0.,  0.,  0.])})"
      ]
     },
     "execution_count": 65,
     "metadata": {},
     "output_type": "execute_result"
    }
   ],
   "source": [
    "clf.best_params_, clf.cv_results_"
   ]
  },
  {
   "cell_type": "code",
   "execution_count": 78,
   "metadata": {
    "collapsed": false
   },
   "outputs": [
    {
     "name": "stdout",
     "output_type": "stream",
     "text": [
      "                        precision    recall  f1-score   support\n",
      "\n",
      "               blue_bg       1.00      1.00      1.00        22\n",
      " distal_acinar_tubule2       1.00      1.00      1.00        38\n",
      "proximal_acinar_tubule       1.00      1.00      1.00        18\n",
      "\n",
      "           avg / total       1.00      1.00      1.00        78\n",
      "\n",
      "Accuracy =  1.0\n"
     ]
    }
   ],
   "source": [
    "with warnings.catch_warnings():\n",
    "    warnings.simplefilter('ignore')\n",
    "    y_pred = pipe.predict(X_test)\n",
    "    print(classification_report(y_test, y_pred, target_names=df.groupby('class')['class_id'].mean().index))\n",
    "    print(\"Accuracy = \", accuracy_score(y_test, y_pred))"
   ]
  },
  {
   "cell_type": "code",
   "execution_count": 82,
   "metadata": {
    "collapsed": false
   },
   "outputs": [
    {
     "name": "stdout",
     "output_type": "stream",
     "text": [
      "[ 0.968  0.968  0.984  1.     0.967]\n"
     ]
    }
   ],
   "source": [
    "with warnings.catch_warnings():\n",
    "    warnings.simplefilter('ignore')\n",
    "    print(cross_val_score(pipe, X, y, cv=5))"
   ]
  },
  {
   "cell_type": "code",
   "execution_count": null,
   "metadata": {
    "collapsed": true
   },
   "outputs": [],
   "source": []
  }
 ],
 "metadata": {
  "kernelspec": {
   "display_name": "Python 3",
   "language": "python",
   "name": "python3"
  },
  "language_info": {
   "codemirror_mode": {
    "name": "ipython",
    "version": 3
   },
   "file_extension": ".py",
   "mimetype": "text/x-python",
   "name": "python",
   "nbconvert_exporter": "python",
   "pygments_lexer": "ipython3",
   "version": "3.5.2"
  }
 },
 "nbformat": 4,
 "nbformat_minor": 0
}
