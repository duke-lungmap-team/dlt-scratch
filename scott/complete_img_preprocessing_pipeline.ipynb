{
 "cells": [
  {
   "cell_type": "markdown",
   "metadata": {},
   "source": [
    "### Setup\n",
    "\n",
    "* pip3 install opencv-python\n",
    "* pip3 install git+https://github.com/whitews/cv-color-features\n",
    "* pip3 install git+https://github.com/whitews/cv2-extras"
   ]
  },
  {
   "cell_type": "code",
   "execution_count": null,
   "metadata": {},
   "outputs": [],
   "source": [
    "from glob import glob\n",
    "import os\n",
    "import cv2\n",
    "import cv_color_features.utils as color_utils\n",
    "import cv2_extras as cv2x\n",
    "import numpy as np\n",
    "import matplotlib.pyplot as plt"
   ]
  },
  {
   "cell_type": "code",
   "execution_count": null,
   "metadata": {},
   "outputs": [],
   "source": [
    "true_blue = 120\n",
    "\n",
    "img_dir = '/home/swhite/git/ihc-image-data/data/mm_e16.5_20x_sox9_sftpc_acta2/'\n",
    "\n",
    "images = glob(img_dir + '*.tif')\n",
    "images = sorted(images)"
   ]
  },
  {
   "cell_type": "markdown",
   "metadata": {},
   "source": [
    "### First, perform lightness non-uniformity correction "
   ]
  },
  {
   "cell_type": "code",
   "execution_count": null,
   "metadata": {},
   "outputs": [],
   "source": [
    "light_corr_imgs_hsv = []\n",
    "\n",
    "for img in images:\n",
    "    img_bgr = cv2.imread(img)\n",
    "    img_rgb = cv2.cvtColor(img_bgr, cv2.COLOR_BGR2RGB)\n",
    "    img_hsv = cv2.cvtColor(img_bgr, cv2.COLOR_BGR2HSV)\n",
    "    img_v = img_hsv[:, :, 2]\n",
    "\n",
    "    # get the blue mask\n",
    "    b_mask = color_utils.create_mask(img_hsv, colors=['blue'])\n",
    "\n",
    "    # this part is not required to do the correction, as it's \n",
    "    # included in the correction function. But, we want to \n",
    "    # plot the non-uniformity field for QC\n",
    "    img_v_b_filtered = cv2.bitwise_and(img_v, img_v, mask=b_mask)\n",
    "    non_uni_field = cv2x.calculate_nonuniform_field(img_v_b_filtered)\n",
    "\n",
    "    img_v_corr = cv2x.correct_nonuniformity(img_v, mask=b_mask)\n",
    "    img_hsv_corr = img_hsv.copy()\n",
    "    img_hsv_corr[:, :, 2] = img_v_corr\n",
    "    \n",
    "    # repair black regions\n",
    "    black_mask = color_utils.create_mask(img_hsv, colors=['black'])\n",
    "    img_hsv_corr[black_mask > 0, 2] = img_hsv[black_mask > 0, 2]\n",
    "    \n",
    "    light_corr_imgs_hsv.append(img_hsv_corr)\n",
    "\n",
    "    fig = plt.figure(figsize=(15, 3))\n",
    "    plt.subplot(151)\n",
    "    plt.imshow(img_v_b_filtered, cmap='gray')\n",
    "    plt.subplot(152)\n",
    "    plt.imshow(non_uni_field, cmap='gray')\n",
    "    plt.subplot(153)\n",
    "    plt.imshow(non_uni_field, cmap='gray', vmin=0, vmax=255)\n",
    "    plt.subplot(154)\n",
    "    plt.imshow(img_rgb)\n",
    "    plt.subplot(155)\n",
    "    plt.imshow(cv2.cvtColor(img_hsv_corr, cv2.COLOR_HSV2RGB))\n",
    "    plt.show()"
   ]
  },
  {
   "cell_type": "code",
   "execution_count": null,
   "metadata": {},
   "outputs": [],
   "source": [
    "for i, img in enumerate(images):\n",
    "    img_bgr = cv2.imread(img)\n",
    "    img_rgb = cv2.cvtColor(img_bgr, cv2.COLOR_BGR2RGB)\n",
    "    \n",
    "    fig = plt.figure(figsize=(16, 8))\n",
    "    plt.subplot(121)\n",
    "    plt.imshow(img_rgb)\n",
    "    plt.subplot(122)\n",
    "    plt.imshow(cv2.cvtColor(light_corr_imgs_hsv[i], cv2.COLOR_HSV2RGB))\n",
    "    plt.show()"
   ]
  },
  {
   "cell_type": "markdown",
   "metadata": {},
   "source": [
    "### Now, select the reference image for color correction"
   ]
  },
  {
   "cell_type": "code",
   "execution_count": null,
   "metadata": {
    "scrolled": true
   },
   "outputs": [],
   "source": [
    "b_h_value_counts = []\n",
    "b_h_means = []\n",
    "\n",
    "for i, img_hsv in enumerate(light_corr_imgs_hsv):\n",
    "    # get the blue mask\n",
    "    b_mask = color_utils.create_mask(img_hsv, colors=['blue'])\n",
    "    b_mask_img_h = cv2.bitwise_and(img_hsv[:, :, 0], img_hsv[:, :, 0], mask=b_mask)\n",
    "    b_h_values = b_mask_img_h[b_mask_img_h > 0].flatten()\n",
    "    \n",
    "    b_h_value_counts.append(b_h_values.shape[0])\n",
    "    b_h_means.append(np.mean(b_h_values))\n",
    "    \n",
    "    fig = plt.figure(figsize=(16, 1))\n",
    "    plt.title(os.path.basename(images[i]))\n",
    "    plt.hist(b_h_values, bins=39, align='left')"
   ]
  },
  {
   "cell_type": "code",
   "execution_count": null,
   "metadata": {},
   "outputs": [],
   "source": [
    "b_h_mean_dev = np.abs(np.array(b_h_means) - true_blue)\n",
    "max_b_dev = b_h_mean_dev.max()\n",
    "\n",
    "b_center_devs = 1 - (b_h_mean_dev / max_b_dev)\n",
    "\n",
    "max_score = 0.0\n",
    "best_idx = None\n",
    "\n",
    "upper_count = float(max(b_h_value_counts))\n",
    "\n",
    "for i, img_path in enumerate(images):\n",
    "    val_count_comp = b_h_value_counts[i] / upper_count\n",
    "    \n",
    "    score = np.mean([val_count_comp, b_center_devs[i]])\n",
    "        \n",
    "    if score > max_score:\n",
    "        max_score = score\n",
    "        best_idx = i\n",
    "    \n",
    "print(os.path.basename(images[best_idx]), max_score)"
   ]
  },
  {
   "cell_type": "code",
   "execution_count": null,
   "metadata": {},
   "outputs": [],
   "source": [
    "ref_img_hsv = light_corr_imgs_hsv[best_idx]\n",
    "ref_img_bgr = cv2.cvtColor(ref_img_hsv, cv2.COLOR_HSV2BGR)"
   ]
  },
  {
   "cell_type": "code",
   "execution_count": null,
   "metadata": {
    "scrolled": true
   },
   "outputs": [],
   "source": [
    "final_corr_images_rgb = []\n",
    "\n",
    "for i, img_hsv in enumerate(light_corr_imgs_hsv):\n",
    "    if i == best_idx:\n",
    "        final_corr_images_rgb.append(cv2.cvtColor(ref_img_bgr, cv2.COLOR_BGR2RGB))\n",
    "        continue\n",
    "\n",
    "    tar_img_bgr = cv2.cvtColor(img_hsv, cv2.COLOR_HSV2BGR)\n",
    "    cor_img_bgr = cv2x.color_transfer(ref_img_bgr, tar_img_bgr, clip=True, preserve_paper=True)\n",
    "    cor_img_rgb = cv2.cvtColor(cor_img_bgr, cv2.COLOR_BGR2RGB)\n",
    "    final_corr_images_rgb.append(cor_img_rgb)\n",
    "\n",
    "    fig = plt.figure(figsize=(15, 5))\n",
    "\n",
    "    plt.subplot(131)\n",
    "    plt.imshow(cv2.cvtColor(ref_img_bgr, cv2.COLOR_BGR2RGB))\n",
    "    plt.subplot(132)\n",
    "    plt.imshow(cv2.cvtColor(img_hsv, cv2.COLOR_HSV2RGB))\n",
    "    plt.subplot(133)\n",
    "    plt.imshow(cor_img_rgb)\n",
    "    plt.show()"
   ]
  },
  {
   "cell_type": "markdown",
   "metadata": {},
   "source": [
    "### Comparison of originals vs final corrections"
   ]
  },
  {
   "cell_type": "code",
   "execution_count": null,
   "metadata": {
    "scrolled": false
   },
   "outputs": [],
   "source": [
    "for i, corr_img_rgb in enumerate(final_corr_images_rgb):\n",
    "    img_bgr = cv2.imread(images[i])\n",
    "    img_rgb = cv2.cvtColor(img_bgr, cv2.COLOR_BGR2RGB)\n",
    "    \n",
    "    fig = plt.figure(figsize=(16, 8))\n",
    "\n",
    "    plt.subplot(121)\n",
    "    plt.imshow(img_rgb)\n",
    "    plt.subplot(122)\n",
    "    plt.imshow(corr_img_rgb)\n",
    "    plt.show()"
   ]
  },
  {
   "cell_type": "code",
   "execution_count": null,
   "metadata": {},
   "outputs": [],
   "source": []
  }
 ],
 "metadata": {
  "kernelspec": {
   "display_name": "Python 3",
   "language": "python",
   "name": "python3"
  },
  "language_info": {
   "codemirror_mode": {
    "name": "ipython",
    "version": 3
   },
   "file_extension": ".py",
   "mimetype": "text/x-python",
   "name": "python",
   "nbconvert_exporter": "python",
   "pygments_lexer": "ipython3",
   "version": "3.6.7"
  }
 },
 "nbformat": 4,
 "nbformat_minor": 2
}
